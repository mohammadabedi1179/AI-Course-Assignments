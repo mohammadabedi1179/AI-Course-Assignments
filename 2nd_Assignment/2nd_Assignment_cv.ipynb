{
 "cells": [
  {
   "cell_type": "markdown",
   "metadata": {},
   "source": [
    "# Hyperparameters Tuning"
   ]
  },
  {
   "cell_type": "markdown",
   "metadata": {},
   "source": [
    "Parameters are the components of the model that are learned during the training process and we can never set them manually. A model starts the training process with random parameter values and adjusts them throughout. Whereas, hyperparameters are the components set by you before the training of the model. The values of hyperparameters might improve or worsen your model’s accuracy.\n",
    "\n",
    "Machine learning models are not intelligent enough to know what hyperparameters would lead to the highest possible accuracy on the given dataset. However, hyperparameter values when set right can build highly accurate models, and thus we allow our models to try different combinations of hyperparameters during the training process and make predictions with the best combination of hyperparameter values."
   ]
  },
  {
   "cell_type": "markdown",
   "metadata": {},
   "source": [
    "## Grid Search\n"
   ]
  },
  {
   "cell_type": "markdown",
   "metadata": {},
   "source": [
    "In grid search, each square in a grid has a combination of hyperparameters and the model has to train itself on each combination. For a clearer understanding, suppose that we want to train a Random Forest Classifier with the following set of hyperparameters.\n",
    "* n_estimators: [100, 150, 200]\n",
    "* max_depth: [20, 30, 40]\n",
    "\n",
    "Have a look at the grid made from these hyperparameter values. Our model runs the training process on each combination of n_estimators and max_depth\n",
    "<p align=\"center\">\n",
    "<img src=\"GS.png\" width=\"800\" height=\"600\" alt=\"something is wrong\">\n",
    "</p>"
   ]
  },
  {
   "cell_type": "markdown",
   "metadata": {},
   "source": [
    "## Import Dependencies"
   ]
  },
  {
   "cell_type": "code",
   "execution_count": 1,
   "metadata": {},
   "outputs": [],
   "source": [
    "import pandas as pd\n",
    "from sklearn.model_selection import train_test_split\n",
    "from sklearn.preprocessing import StandardScaler\n",
    "from sklearn.ensemble import RandomForestClassifier\n",
    "from sklearn.model_selection import GridSearchCV, RandomizedSearchCV, cross_val_score\n",
    "import optuna\n",
    "import plotly"
   ]
  },
  {
   "cell_type": "markdown",
   "metadata": {},
   "source": [
    "# Import Dataset"
   ]
  },
  {
   "cell_type": "code",
   "execution_count": 2,
   "metadata": {},
   "outputs": [],
   "source": [
    "df = pd.read_csv(\"train.csv\")"
   ]
  },
  {
   "cell_type": "code",
   "execution_count": 3,
   "metadata": {},
   "outputs": [
    {
     "data": {
      "text/html": [
       "<div>\n",
       "<style scoped>\n",
       "    .dataframe tbody tr th:only-of-type {\n",
       "        vertical-align: middle;\n",
       "    }\n",
       "\n",
       "    .dataframe tbody tr th {\n",
       "        vertical-align: top;\n",
       "    }\n",
       "\n",
       "    .dataframe thead th {\n",
       "        text-align: right;\n",
       "    }\n",
       "</style>\n",
       "<table border=\"1\" class=\"dataframe\">\n",
       "  <thead>\n",
       "    <tr style=\"text-align: right;\">\n",
       "      <th></th>\n",
       "      <th>battery_power</th>\n",
       "      <th>blue</th>\n",
       "      <th>clock_speed</th>\n",
       "      <th>dual_sim</th>\n",
       "      <th>fc</th>\n",
       "      <th>four_g</th>\n",
       "      <th>int_memory</th>\n",
       "      <th>m_dep</th>\n",
       "      <th>mobile_wt</th>\n",
       "      <th>n_cores</th>\n",
       "      <th>...</th>\n",
       "      <th>px_height</th>\n",
       "      <th>px_width</th>\n",
       "      <th>ram</th>\n",
       "      <th>sc_h</th>\n",
       "      <th>sc_w</th>\n",
       "      <th>talk_time</th>\n",
       "      <th>three_g</th>\n",
       "      <th>touch_screen</th>\n",
       "      <th>wifi</th>\n",
       "      <th>price_range</th>\n",
       "    </tr>\n",
       "  </thead>\n",
       "  <tbody>\n",
       "    <tr>\n",
       "      <th>0</th>\n",
       "      <td>842</td>\n",
       "      <td>0</td>\n",
       "      <td>2.2</td>\n",
       "      <td>0</td>\n",
       "      <td>1</td>\n",
       "      <td>0</td>\n",
       "      <td>7</td>\n",
       "      <td>0.6</td>\n",
       "      <td>188</td>\n",
       "      <td>2</td>\n",
       "      <td>...</td>\n",
       "      <td>20</td>\n",
       "      <td>756</td>\n",
       "      <td>2549</td>\n",
       "      <td>9</td>\n",
       "      <td>7</td>\n",
       "      <td>19</td>\n",
       "      <td>0</td>\n",
       "      <td>0</td>\n",
       "      <td>1</td>\n",
       "      <td>1</td>\n",
       "    </tr>\n",
       "    <tr>\n",
       "      <th>1</th>\n",
       "      <td>1021</td>\n",
       "      <td>1</td>\n",
       "      <td>0.5</td>\n",
       "      <td>1</td>\n",
       "      <td>0</td>\n",
       "      <td>1</td>\n",
       "      <td>53</td>\n",
       "      <td>0.7</td>\n",
       "      <td>136</td>\n",
       "      <td>3</td>\n",
       "      <td>...</td>\n",
       "      <td>905</td>\n",
       "      <td>1988</td>\n",
       "      <td>2631</td>\n",
       "      <td>17</td>\n",
       "      <td>3</td>\n",
       "      <td>7</td>\n",
       "      <td>1</td>\n",
       "      <td>1</td>\n",
       "      <td>0</td>\n",
       "      <td>2</td>\n",
       "    </tr>\n",
       "    <tr>\n",
       "      <th>2</th>\n",
       "      <td>563</td>\n",
       "      <td>1</td>\n",
       "      <td>0.5</td>\n",
       "      <td>1</td>\n",
       "      <td>2</td>\n",
       "      <td>1</td>\n",
       "      <td>41</td>\n",
       "      <td>0.9</td>\n",
       "      <td>145</td>\n",
       "      <td>5</td>\n",
       "      <td>...</td>\n",
       "      <td>1263</td>\n",
       "      <td>1716</td>\n",
       "      <td>2603</td>\n",
       "      <td>11</td>\n",
       "      <td>2</td>\n",
       "      <td>9</td>\n",
       "      <td>1</td>\n",
       "      <td>1</td>\n",
       "      <td>0</td>\n",
       "      <td>2</td>\n",
       "    </tr>\n",
       "    <tr>\n",
       "      <th>3</th>\n",
       "      <td>615</td>\n",
       "      <td>1</td>\n",
       "      <td>2.5</td>\n",
       "      <td>0</td>\n",
       "      <td>0</td>\n",
       "      <td>0</td>\n",
       "      <td>10</td>\n",
       "      <td>0.8</td>\n",
       "      <td>131</td>\n",
       "      <td>6</td>\n",
       "      <td>...</td>\n",
       "      <td>1216</td>\n",
       "      <td>1786</td>\n",
       "      <td>2769</td>\n",
       "      <td>16</td>\n",
       "      <td>8</td>\n",
       "      <td>11</td>\n",
       "      <td>1</td>\n",
       "      <td>0</td>\n",
       "      <td>0</td>\n",
       "      <td>2</td>\n",
       "    </tr>\n",
       "    <tr>\n",
       "      <th>4</th>\n",
       "      <td>1821</td>\n",
       "      <td>1</td>\n",
       "      <td>1.2</td>\n",
       "      <td>0</td>\n",
       "      <td>13</td>\n",
       "      <td>1</td>\n",
       "      <td>44</td>\n",
       "      <td>0.6</td>\n",
       "      <td>141</td>\n",
       "      <td>2</td>\n",
       "      <td>...</td>\n",
       "      <td>1208</td>\n",
       "      <td>1212</td>\n",
       "      <td>1411</td>\n",
       "      <td>8</td>\n",
       "      <td>2</td>\n",
       "      <td>15</td>\n",
       "      <td>1</td>\n",
       "      <td>1</td>\n",
       "      <td>0</td>\n",
       "      <td>1</td>\n",
       "    </tr>\n",
       "  </tbody>\n",
       "</table>\n",
       "<p>5 rows × 21 columns</p>\n",
       "</div>"
      ],
      "text/plain": [
       "   battery_power  blue  clock_speed  dual_sim  fc  four_g  int_memory  m_dep  \\\n",
       "0            842     0          2.2         0   1       0           7    0.6   \n",
       "1           1021     1          0.5         1   0       1          53    0.7   \n",
       "2            563     1          0.5         1   2       1          41    0.9   \n",
       "3            615     1          2.5         0   0       0          10    0.8   \n",
       "4           1821     1          1.2         0  13       1          44    0.6   \n",
       "\n",
       "   mobile_wt  n_cores  ...  px_height  px_width   ram  sc_h  sc_w  talk_time  \\\n",
       "0        188        2  ...         20       756  2549     9     7         19   \n",
       "1        136        3  ...        905      1988  2631    17     3          7   \n",
       "2        145        5  ...       1263      1716  2603    11     2          9   \n",
       "3        131        6  ...       1216      1786  2769    16     8         11   \n",
       "4        141        2  ...       1208      1212  1411     8     2         15   \n",
       "\n",
       "   three_g  touch_screen  wifi  price_range  \n",
       "0        0             0     1            1  \n",
       "1        1             1     0            2  \n",
       "2        1             1     0            2  \n",
       "3        1             0     0            2  \n",
       "4        1             1     0            1  \n",
       "\n",
       "[5 rows x 21 columns]"
      ]
     },
     "execution_count": 3,
     "metadata": {},
     "output_type": "execute_result"
    }
   ],
   "source": [
    "df.head()"
   ]
  },
  {
   "cell_type": "markdown",
   "metadata": {},
   "source": [
    "## Preprocessing"
   ]
  },
  {
   "cell_type": "code",
   "execution_count": 4,
   "metadata": {},
   "outputs": [],
   "source": [
    "y = df.pop('price_range')\n",
    "x_train, x_test, y_train, y_test = train_test_split(df,y, test_size = 0.2)"
   ]
  },
  {
   "cell_type": "markdown",
   "metadata": {},
   "source": [
    "## Normalization"
   ]
  },
  {
   "cell_type": "code",
   "execution_count": 5,
   "metadata": {},
   "outputs": [],
   "source": [
    "train_scaler = StandardScaler().fit(x_train)\n",
    "test_scaler = StandardScaler().fit(x_test)"
   ]
  },
  {
   "cell_type": "code",
   "execution_count": 6,
   "metadata": {},
   "outputs": [],
   "source": [
    "x_train_scaled = train_scaler.transform(x_train)\n",
    "x_test_scaled = test_scaler.transform(x_test)"
   ]
  },
  {
   "cell_type": "markdown",
   "metadata": {},
   "source": [
    "## Random Forest Classification with Default Hyperparameter Values"
   ]
  },
  {
   "cell_type": "code",
   "execution_count": 7,
   "metadata": {},
   "outputs": [
    {
     "name": "stdout",
     "output_type": "stream",
     "text": [
      "Training score is:1.0\n",
      "Test score is:0.87\n"
     ]
    }
   ],
   "source": [
    "classifier1 = RandomForestClassifier().fit(x_train_scaled, y_train)\n",
    "print(\"Training score is:\" + str(classifier1.score(x_train_scaled, y_train)))\n",
    "print(\"Test score is:\" + str(classifier1.score(x_test_scaled, y_test)))"
   ]
  },
  {
   "cell_type": "markdown",
   "metadata": {},
   "source": [
    "## Random Forest Classification with Grid Search CV"
   ]
  },
  {
   "cell_type": "code",
   "execution_count": 8,
   "metadata": {},
   "outputs": [
    {
     "data": {
      "text/plain": [
       "GridSearchCV(cv=8, estimator=RandomForestClassifier(),\n",
       "             param_grid={'max_depth': (10, 20, 30, 50, 100),\n",
       "                         'max_features': ('auto', 'sqrt', 'log2', None),\n",
       "                         'min_samples_leaf': (2, 3, 5, 10),\n",
       "                         'n_estimators': (30, 40, 50, 100, 200)},\n",
       "             scoring='accuracy')"
      ]
     },
     "execution_count": 8,
     "metadata": {},
     "output_type": "execute_result"
    }
   ],
   "source": [
    "hyperparameters = {'n_estimators' : (30, 40, 50, 100, 200), 'min_samples_leaf' : (2, 3, 5, 10), 'max_features' : ('auto', 'sqrt', 'log2', None), 'max_depth' : (10, 20, 30, 50, 100)}\n",
    "rfc = RandomForestClassifier()\n",
    "classifier2 = GridSearchCV(rfc, hyperparameters, cv=8, scoring='accuracy')\n",
    "classifier2.fit(x_train_scaled, y_train)"
   ]
  },
  {
   "cell_type": "code",
   "execution_count": 9,
   "metadata": {},
   "outputs": [
    {
     "name": "stdout",
     "output_type": "stream",
     "text": [
      "The best score is : 0.90375\n",
      "RandomForestClassifier(max_depth=30, max_features=None, min_samples_leaf=3)\n",
      "Test score is:0.8625\n"
     ]
    }
   ],
   "source": [
    "print(\"The best score is : \" + str(classifier2.best_score_))\n",
    "best_rfc = classifier2.best_estimator_\n",
    "print(best_rfc)\n",
    "print(\"Test score is:\" + str(best_rfc.score(x_test_scaled, y_test)))"
   ]
  },
  {
   "cell_type": "markdown",
   "metadata": {},
   "source": [
    "## Random Search"
   ]
  },
  {
   "cell_type": "markdown",
   "metadata": {},
   "source": [
    "Like grid search, we still set the hyperparameter values we want to tune in Random Search. However, the model does not train each combination of hyperparameters, it instead selects them randomly. We have to define the number of samples we want to choose from our grid, So it is computationally more efficient to find best combination of hyperparameters."
   ]
  },
  {
   "cell_type": "markdown",
   "metadata": {},
   "source": [
    "## Random Forest Classification with Random Search"
   ]
  },
  {
   "cell_type": "code",
   "execution_count": 10,
   "metadata": {},
   "outputs": [
    {
     "data": {
      "text/plain": [
       "RandomizedSearchCV(cv=8, estimator=RandomForestClassifier(), n_iter=100,\n",
       "                   param_distributions={'max_depth': (10, 20, 30, 50, 100, 200),\n",
       "                                        'max_features': ('auto', 'sqrt', 'log2',\n",
       "                                                         None),\n",
       "                                        'min_samples_leaf': (2, 3, 5, 10, 20),\n",
       "                                        'n_estimators': (30, 40, 50, 100, 200,\n",
       "                                                         300)},\n",
       "                   scoring='accuracy')"
      ]
     },
     "execution_count": 10,
     "metadata": {},
     "output_type": "execute_result"
    }
   ],
   "source": [
    "hyperparameters2 = {'n_estimators' : (30, 40, 50, 100, 200, 300), 'min_samples_leaf' : (2, 3, 5, 10, 20), 'max_features' : ('auto', 'sqrt', 'log2', None), 'max_depth' : (10, 20, 30, 50, 100, 200)}\n",
    "rfc2 = RandomForestClassifier()\n",
    "classifier3 = RandomizedSearchCV(rfc2, hyperparameters2, n_iter=100, cv=8, scoring='accuracy')\n",
    "classifier3.fit(x_train_scaled, y_train)"
   ]
  },
  {
   "cell_type": "code",
   "execution_count": 11,
   "metadata": {},
   "outputs": [
    {
     "name": "stdout",
     "output_type": "stream",
     "text": [
      "The best score is : 0.899375\n",
      "RandomForestClassifier(max_depth=20, max_features=None, min_samples_leaf=3,\n",
      "                       n_estimators=300)\n",
      "Test score is:0.86\n"
     ]
    }
   ],
   "source": [
    "print(\"The best score is : \" + str(classifier3.best_score_))\n",
    "best_rfc2 = classifier3.best_estimator_\n",
    "print(best_rfc2)\n",
    "print(\"Test score is:\" + str(best_rfc2.score(x_test_scaled, y_test)))"
   ]
  },
  {
   "cell_type": "markdown",
   "metadata": {},
   "source": [
    "## Optuna"
   ]
  },
  {
   "cell_type": "markdown",
   "metadata": {},
   "source": [
    "Optuna is an open-source hyperparameter optimization framework to automate hyperparameter search. The key features of Optuna include automated search for optimal hyperparameters, efficiently search large spaces and prune unpromising trials for faster results, and parallelize hyperparameter searches over multiple threads or processes."
   ]
  },
  {
   "cell_type": "code",
   "execution_count": 12,
   "metadata": {},
   "outputs": [],
   "source": [
    "def objective(trial):\n",
    "    n_estimators = int(trial.suggest_loguniform('n_estimators', 5, 300))\n",
    "    max_depth = int(trial.suggest_loguniform('max_depth', 10, 500))\n",
    "    min_samples_leaf = trial.suggest_int('min_samples_leaf', 2, 20)\n",
    "    classifier4 = RandomForestClassifier(n_estimators=n_estimators, max_depth=max_depth, min_samples_leaf=min_samples_leaf)\n",
    "    scores = cross_val_score(classifier4, x_train_scaled, y_train, cv=8)\n",
    "    score = scores.mean()\n",
    "    return score"
   ]
  },
  {
   "cell_type": "code",
   "execution_count": 13,
   "metadata": {},
   "outputs": [
    {
     "name": "stderr",
     "output_type": "stream",
     "text": [
      "\u001b[32m[I 2022-05-06 16:54:14,649]\u001b[0m A new study created in memory with name: no-name-4a2d7bdc-76f6-4e72-a010-cfbbf2f9f9b3\u001b[0m\n",
      "\u001b[32m[I 2022-05-06 16:54:14,799]\u001b[0m Trial 0 finished with value: 0.76875 and parameters: {'n_estimators': 6.620750116799072, 'max_depth': 84.45707822726965, 'min_samples_leaf': 6}. Best is trial 0 with value: 0.76875.\u001b[0m\n",
      "\u001b[32m[I 2022-05-06 16:54:15,770]\u001b[0m Trial 1 finished with value: 0.865 and parameters: {'n_estimators': 42.08678291709898, 'max_depth': 298.02920238111227, 'min_samples_leaf': 2}. Best is trial 1 with value: 0.865.\u001b[0m\n",
      "\u001b[32m[I 2022-05-06 16:54:16,023]\u001b[0m Trial 2 finished with value: 0.79875 and parameters: {'n_estimators': 13.56205001442954, 'max_depth': 15.428539617780112, 'min_samples_leaf': 14}. Best is trial 1 with value: 0.865.\u001b[0m\n",
      "\u001b[32m[I 2022-05-06 16:54:16,506]\u001b[0m Trial 3 finished with value: 0.846875 and parameters: {'n_estimators': 23.80451941571961, 'max_depth': 213.61951113344585, 'min_samples_leaf': 4}. Best is trial 1 with value: 0.865.\u001b[0m\n",
      "\u001b[32m[I 2022-05-06 16:54:16,639]\u001b[0m Trial 4 finished with value: 0.7568750000000001 and parameters: {'n_estimators': 6.758905810620132, 'max_depth': 14.736481741655702, 'min_samples_leaf': 9}. Best is trial 1 with value: 0.865.\u001b[0m\n",
      "\u001b[32m[I 2022-05-06 16:54:19,440]\u001b[0m Trial 5 finished with value: 0.854375 and parameters: {'n_estimators': 157.73403153941518, 'max_depth': 276.24578672224385, 'min_samples_leaf': 12}. Best is trial 1 with value: 0.865.\u001b[0m\n",
      "\u001b[32m[I 2022-05-06 16:54:19,860]\u001b[0m Trial 6 finished with value: 0.830625 and parameters: {'n_estimators': 24.42227042147574, 'max_depth': 458.63084828839317, 'min_samples_leaf': 16}. Best is trial 1 with value: 0.865.\u001b[0m\n",
      "\u001b[32m[I 2022-05-06 16:54:20,324]\u001b[0m Trial 7 finished with value: 0.82875 and parameters: {'n_estimators': 24.450818428230473, 'max_depth': 143.9072071735463, 'min_samples_leaf': 10}. Best is trial 1 with value: 0.865.\u001b[0m\n",
      "\u001b[32m[I 2022-05-06 16:54:21,447]\u001b[0m Trial 8 finished with value: 0.8674999999999999 and parameters: {'n_estimators': 56.89534557270174, 'max_depth': 190.21031723326305, 'min_samples_leaf': 4}. Best is trial 8 with value: 0.8674999999999999.\u001b[0m\n",
      "\u001b[32m[I 2022-05-06 16:54:22,006]\u001b[0m Trial 9 finished with value: 0.855 and parameters: {'n_estimators': 29.489745956016954, 'max_depth': 61.735120984069354, 'min_samples_leaf': 7}. Best is trial 8 with value: 0.8674999999999999.\u001b[0m\n",
      "\u001b[32m[I 2022-05-06 16:54:24,240]\u001b[0m Trial 10 finished with value: 0.881875 and parameters: {'n_estimators': 106.71483938050022, 'max_depth': 47.825823458329005, 'min_samples_leaf': 2}. Best is trial 10 with value: 0.881875.\u001b[0m\n",
      "\u001b[32m[I 2022-05-06 16:54:26,417]\u001b[0m Trial 11 finished with value: 0.88625 and parameters: {'n_estimators': 106.98335337738521, 'max_depth': 39.64852544538011, 'min_samples_leaf': 2}. Best is trial 11 with value: 0.88625.\u001b[0m\n",
      "\u001b[32m[I 2022-05-06 16:54:28,858]\u001b[0m Trial 12 finished with value: 0.8512500000000001 and parameters: {'n_estimators': 152.50039973818198, 'max_depth': 34.29394792583198, 'min_samples_leaf': 20}. Best is trial 11 with value: 0.88625.\u001b[0m\n",
      "\u001b[32m[I 2022-05-06 16:54:30,600]\u001b[0m Trial 13 finished with value: 0.8768750000000001 and parameters: {'n_estimators': 83.96959405326373, 'max_depth': 30.256399883068525, 'min_samples_leaf': 2}. Best is trial 11 with value: 0.88625.\u001b[0m\n",
      "\u001b[32m[I 2022-05-06 16:54:34,808]\u001b[0m Trial 14 finished with value: 0.8725 and parameters: {'n_estimators': 228.76676921317136, 'max_depth': 34.351695864689866, 'min_samples_leaf': 6}. Best is trial 11 with value: 0.88625.\u001b[0m\n",
      "\u001b[32m[I 2022-05-06 16:54:36,373]\u001b[0m Trial 15 finished with value: 0.875625 and parameters: {'n_estimators': 73.04615422802961, 'max_depth': 66.51210279823145, 'min_samples_leaf': 2}. Best is trial 11 with value: 0.88625.\u001b[0m\n",
      "\u001b[32m[I 2022-05-06 16:54:38,387]\u001b[0m Trial 16 finished with value: 0.869375 and parameters: {'n_estimators': 111.22336865715891, 'max_depth': 23.43979347433556, 'min_samples_leaf': 8}. Best is trial 11 with value: 0.88625.\u001b[0m\n",
      "\u001b[32m[I 2022-05-06 16:54:44,049]\u001b[0m Trial 17 finished with value: 0.8756250000000001 and parameters: {'n_estimators': 293.09670354102127, 'max_depth': 102.72832638223763, 'min_samples_leaf': 4}. Best is trial 11 with value: 0.88625.\u001b[0m\n",
      "\u001b[32m[I 2022-05-06 16:54:45,853]\u001b[0m Trial 18 finished with value: 0.856875 and parameters: {'n_estimators': 103.22605839508596, 'max_depth': 46.352630721092694, 'min_samples_leaf': 12}. Best is trial 11 with value: 0.88625.\u001b[0m\n",
      "\u001b[32m[I 2022-05-06 16:54:46,906]\u001b[0m Trial 19 finished with value: 0.8625 and parameters: {'n_estimators': 54.94919461118751, 'max_depth': 10.401713708212938, 'min_samples_leaf': 5}. Best is trial 11 with value: 0.88625.\u001b[0m\n",
      "\u001b[32m[I 2022-05-06 16:54:49,047]\u001b[0m Trial 20 finished with value: 0.855 and parameters: {'n_estimators': 130.8715241196423, 'max_depth': 47.69659207348574, 'min_samples_leaf': 15}. Best is trial 11 with value: 0.88625.\u001b[0m\n",
      "\u001b[32m[I 2022-05-06 16:54:50,725]\u001b[0m Trial 21 finished with value: 0.8756250000000001 and parameters: {'n_estimators': 81.0051208782674, 'max_depth': 24.241181527652667, 'min_samples_leaf': 2}. Best is trial 11 with value: 0.88625.\u001b[0m\n",
      "\u001b[32m[I 2022-05-06 16:54:54,856]\u001b[0m Trial 22 finished with value: 0.8825 and parameters: {'n_estimators': 198.65529315437732, 'max_depth': 27.57197493784929, 'min_samples_leaf': 2}. Best is trial 11 with value: 0.88625.\u001b[0m\n",
      "\u001b[32m[I 2022-05-06 16:54:58,610]\u001b[0m Trial 23 finished with value: 0.87125 and parameters: {'n_estimators': 194.3051280391765, 'max_depth': 48.98736277333666, 'min_samples_leaf': 4}. Best is trial 11 with value: 0.88625.\u001b[0m\n",
      "\u001b[32m[I 2022-05-06 16:55:04,437]\u001b[0m Trial 24 finished with value: 0.88 and parameters: {'n_estimators': 293.27919546446327, 'max_depth': 14.523386321504063, 'min_samples_leaf': 3}. Best is trial 11 with value: 0.88625.\u001b[0m\n",
      "\u001b[32m[I 2022-05-06 16:55:08,203]\u001b[0m Trial 25 finished with value: 0.86875 and parameters: {'n_estimators': 203.49808236189008, 'max_depth': 20.61882821539261, 'min_samples_leaf': 6}. Best is trial 11 with value: 0.88625.\u001b[0m\n",
      "\u001b[32m[I 2022-05-06 16:55:10,011]\u001b[0m Trial 26 finished with value: 0.8518749999999999 and parameters: {'n_estimators': 112.24528238126348, 'max_depth': 99.51240295645722, 'min_samples_leaf': 20}. Best is trial 11 with value: 0.88625.\u001b[0m\n",
      "\u001b[32m[I 2022-05-06 16:55:11,131]\u001b[0m Trial 27 finished with value: 0.86125 and parameters: {'n_estimators': 57.29378690167045, 'max_depth': 44.813568892657415, 'min_samples_leaf': 7}. Best is trial 11 with value: 0.88625.\u001b[0m\n",
      "\u001b[32m[I 2022-05-06 16:55:14,466]\u001b[0m Trial 28 finished with value: 0.88125 and parameters: {'n_estimators': 167.7544761973794, 'max_depth': 30.267103453973412, 'min_samples_leaf': 3}. Best is trial 11 with value: 0.88625.\u001b[0m\n",
      "\u001b[32m[I 2022-05-06 16:55:15,324]\u001b[0m Trial 29 finished with value: 0.8656250000000001 and parameters: {'n_estimators': 43.714823814386904, 'max_depth': 82.41171560789147, 'min_samples_leaf': 5}. Best is trial 11 with value: 0.88625.\u001b[0m\n",
      "\u001b[32m[I 2022-05-06 16:55:19,363]\u001b[0m Trial 30 finished with value: 0.858125 and parameters: {'n_estimators': 248.21526934638877, 'max_depth': 126.62579484565639, 'min_samples_leaf': 18}. Best is trial 11 with value: 0.88625.\u001b[0m\n",
      "\u001b[32m[I 2022-05-06 16:55:22,732]\u001b[0m Trial 31 finished with value: 0.880625 and parameters: {'n_estimators': 167.23641922125816, 'max_depth': 29.441870279338737, 'min_samples_leaf': 3}. Best is trial 11 with value: 0.88625.\u001b[0m\n",
      "\u001b[32m[I 2022-05-06 16:55:25,462]\u001b[0m Trial 32 finished with value: 0.878125 and parameters: {'n_estimators': 130.17558951540164, 'max_depth': 18.656350960758935, 'min_samples_leaf': 2}. Best is trial 11 with value: 0.88625.\u001b[0m\n",
      "\u001b[32m[I 2022-05-06 16:55:28,904]\u001b[0m Trial 33 finished with value: 0.879375 and parameters: {'n_estimators': 172.41980657657055, 'max_depth': 39.589771549397135, 'min_samples_leaf': 3}. Best is trial 11 with value: 0.88625.\u001b[0m\n",
      "\u001b[32m[I 2022-05-06 16:55:30,737]\u001b[0m Trial 34 finished with value: 0.874375 and parameters: {'n_estimators': 96.70318930314231, 'max_depth': 61.31537389859607, 'min_samples_leaf': 5}. Best is trial 11 with value: 0.88625.\u001b[0m\n",
      "\u001b[32m[I 2022-05-06 16:55:31,003]\u001b[0m Trial 35 finished with value: 0.8218749999999999 and parameters: {'n_estimators': 12.007998225894884, 'max_depth': 25.428690890020547, 'min_samples_leaf': 3}. Best is trial 11 with value: 0.88625.\u001b[0m\n",
      "\u001b[32m[I 2022-05-06 16:55:33,826]\u001b[0m Trial 36 finished with value: 0.8812500000000001 and parameters: {'n_estimators': 134.6287849023174, 'max_depth': 17.807626151854837, 'min_samples_leaf': 2}. Best is trial 11 with value: 0.88625.\u001b[0m\n",
      "\u001b[32m[I 2022-05-06 16:55:35,177]\u001b[0m Trial 37 finished with value: 0.8687499999999999 and parameters: {'n_estimators': 69.63032140938441, 'max_depth': 12.398452176583076, 'min_samples_leaf': 6}. Best is trial 11 with value: 0.88625.\u001b[0m\n",
      "\u001b[32m[I 2022-05-06 16:55:37,502]\u001b[0m Trial 38 finished with value: 0.87 and parameters: {'n_estimators': 132.65136494645677, 'max_depth': 17.5565039782777, 'min_samples_leaf': 9}. Best is trial 11 with value: 0.88625.\u001b[0m\n",
      "\u001b[32m[I 2022-05-06 16:55:38,181]\u001b[0m Trial 39 finished with value: 0.86625 and parameters: {'n_estimators': 33.891795773131115, 'max_depth': 39.29882528895271, 'min_samples_leaf': 4}. Best is trial 11 with value: 0.88625.\u001b[0m\n",
      "\u001b[32m[I 2022-05-06 16:55:39,108]\u001b[0m Trial 40 finished with value: 0.869375 and parameters: {'n_estimators': 44.44508565878794, 'max_depth': 15.293127579418329, 'min_samples_leaf': 2}. Best is trial 11 with value: 0.88625.\u001b[0m\n",
      "\u001b[32m[I 2022-05-06 16:55:43,703]\u001b[0m Trial 41 finished with value: 0.8812500000000001 and parameters: {'n_estimators': 228.45889707452463, 'max_depth': 28.72189228396512, 'min_samples_leaf': 3}. Best is trial 11 with value: 0.88625.\u001b[0m\n",
      "\u001b[32m[I 2022-05-06 16:55:48,551]\u001b[0m Trial 42 finished with value: 0.8787499999999999 and parameters: {'n_estimators': 236.87990294950782, 'max_depth': 55.06306151541019, 'min_samples_leaf': 2}. Best is trial 11 with value: 0.88625.\u001b[0m\n",
      "\u001b[32m[I 2022-05-06 16:55:52,470]\u001b[0m Trial 43 finished with value: 0.878125 and parameters: {'n_estimators': 199.11123301267946, 'max_depth': 21.335077280477385, 'min_samples_leaf': 4}. Best is trial 11 with value: 0.88625.\u001b[0m\n",
      "\u001b[32m[I 2022-05-06 16:55:55,234]\u001b[0m Trial 44 finished with value: 0.8725 and parameters: {'n_estimators': 145.3231296486856, 'max_depth': 27.606479916131054, 'min_samples_leaf': 5}. Best is trial 11 with value: 0.88625.\u001b[0m\n",
      "\u001b[32m[I 2022-05-06 16:55:55,586]\u001b[0m Trial 45 finished with value: 0.826875 and parameters: {'n_estimators': 15.818455106303936, 'max_depth': 35.117065070178654, 'min_samples_leaf': 2}. Best is trial 11 with value: 0.88625.\u001b[0m\n",
      "\u001b[32m[I 2022-05-06 16:55:57,463]\u001b[0m Trial 46 finished with value: 0.874375 and parameters: {'n_estimators': 92.75915782571344, 'max_depth': 12.731281453685828, 'min_samples_leaf': 3}. Best is trial 11 with value: 0.88625.\u001b[0m\n",
      "\u001b[32m[I 2022-05-06 16:55:59,519]\u001b[0m Trial 47 finished with value: 0.868125 and parameters: {'n_estimators': 116.74734112958888, 'max_depth': 496.35885100192246, 'min_samples_leaf': 11}. Best is trial 11 with value: 0.88625.\u001b[0m\n",
      "\u001b[32m[I 2022-05-06 16:56:03,458]\u001b[0m Trial 48 finished with value: 0.8731249999999999 and parameters: {'n_estimators': 218.43395281136353, 'max_depth': 72.83493299347593, 'min_samples_leaf': 7}. Best is trial 11 with value: 0.88625.\u001b[0m\n",
      "\u001b[32m[I 2022-05-06 16:56:08,723]\u001b[0m Trial 49 finished with value: 0.8768750000000001 and parameters: {'n_estimators': 266.6810737984429, 'max_depth': 368.89459797977713, 'min_samples_leaf': 4}. Best is trial 11 with value: 0.88625.\u001b[0m\n",
      "\u001b[32m[I 2022-05-06 16:56:10,093]\u001b[0m Trial 50 finished with value: 0.8725 and parameters: {'n_estimators': 61.30825316304003, 'max_depth': 36.95522401265749, 'min_samples_leaf': 3}. Best is trial 11 with value: 0.88625.\u001b[0m\n",
      "\u001b[32m[I 2022-05-06 16:56:13,463]\u001b[0m Trial 51 finished with value: 0.8781249999999999 and parameters: {'n_estimators': 163.99651750696486, 'max_depth': 30.197945685119294, 'min_samples_leaf': 3}. Best is trial 11 with value: 0.88625.\u001b[0m\n",
      "\u001b[32m[I 2022-05-06 16:56:17,158]\u001b[0m Trial 52 finished with value: 0.8812500000000001 and parameters: {'n_estimators': 179.3760677588365, 'max_depth': 18.26182949955658, 'min_samples_leaf': 2}. Best is trial 11 with value: 0.88625.\u001b[0m\n",
      "\u001b[32m[I 2022-05-06 16:56:21,109]\u001b[0m Trial 53 finished with value: 0.874375 and parameters: {'n_estimators': 190.20257392971132, 'max_depth': 18.31017764169062, 'min_samples_leaf': 2}. Best is trial 11 with value: 0.88625.\u001b[0m\n",
      "\u001b[32m[I 2022-05-06 16:56:23,825]\u001b[0m Trial 54 finished with value: 0.880625 and parameters: {'n_estimators': 138.66442069441345, 'max_depth': 22.195631102889905, 'min_samples_leaf': 4}. Best is trial 11 with value: 0.88625.\u001b[0m\n",
      "\u001b[32m[I 2022-05-06 16:56:23,939]\u001b[0m Trial 55 finished with value: 0.7575000000000001 and parameters: {'n_estimators': 5.7325913558215085, 'max_depth': 11.10544690021594, 'min_samples_leaf': 13}. Best is trial 11 with value: 0.88625.\u001b[0m\n",
      "\u001b[32m[I 2022-05-06 16:56:25,570]\u001b[0m Trial 56 finished with value: 0.88 and parameters: {'n_estimators': 76.84007397671444, 'max_depth': 16.792567796208225, 'min_samples_leaf': 2}. Best is trial 11 with value: 0.88625.\u001b[0m\n",
      "\u001b[32m[I 2022-05-06 16:56:27,327]\u001b[0m Trial 57 finished with value: 0.8725 and parameters: {'n_estimators': 92.57274675249927, 'max_depth': 26.337232223018113, 'min_samples_leaf': 5}. Best is trial 11 with value: 0.88625.\u001b[0m\n",
      "\u001b[32m[I 2022-05-06 16:56:32,760]\u001b[0m Trial 58 finished with value: 0.881875 and parameters: {'n_estimators': 262.44870074530905, 'max_depth': 56.38166107709698, 'min_samples_leaf': 2}. Best is trial 11 with value: 0.88625.\u001b[0m\n",
      "\u001b[32m[I 2022-05-06 16:56:37,902]\u001b[0m Trial 59 finished with value: 0.8712500000000001 and parameters: {'n_estimators': 264.8125992541258, 'max_depth': 57.186984706902734, 'min_samples_leaf': 4}. Best is trial 11 with value: 0.88625.\u001b[0m\n",
      "\u001b[32m[I 2022-05-06 16:56:41,886]\u001b[0m Trial 60 finished with value: 0.870625 and parameters: {'n_estimators': 216.85164040783147, 'max_depth': 42.93555692403772, 'min_samples_leaf': 6}. Best is trial 11 with value: 0.88625.\u001b[0m\n",
      "\u001b[32m[I 2022-05-06 16:56:47,937]\u001b[0m Trial 61 finished with value: 0.883125 and parameters: {'n_estimators': 292.88825028004396, 'max_depth': 52.75190933000072, 'min_samples_leaf': 2}. Best is trial 11 with value: 0.88625.\u001b[0m\n",
      "\u001b[32m[I 2022-05-06 16:56:53,650]\u001b[0m Trial 62 finished with value: 0.88375 and parameters: {'n_estimators': 287.1280199283169, 'max_depth': 52.555033424644236, 'min_samples_leaf': 3}. Best is trial 11 with value: 0.88625.\u001b[0m\n",
      "\u001b[32m[I 2022-05-06 16:56:59,669]\u001b[0m Trial 63 finished with value: 0.88375 and parameters: {'n_estimators': 293.60294603261093, 'max_depth': 51.67656489113255, 'min_samples_leaf': 2}. Best is trial 11 with value: 0.88625.\u001b[0m\n",
      "\u001b[32m[I 2022-05-06 16:57:05,612]\u001b[0m Trial 64 finished with value: 0.875625 and parameters: {'n_estimators': 299.1730598551465, 'max_depth': 73.3814535242968, 'min_samples_leaf': 3}. Best is trial 11 with value: 0.88625.\u001b[0m\n",
      "\u001b[32m[I 2022-05-06 16:57:10,877]\u001b[0m Trial 65 finished with value: 0.88 and parameters: {'n_estimators': 254.5198586986067, 'max_depth': 52.99904034910656, 'min_samples_leaf': 2}. Best is trial 11 with value: 0.88625.\u001b[0m\n",
      "\u001b[32m[I 2022-05-06 16:57:16,878]\u001b[0m Trial 66 finished with value: 0.88375 and parameters: {'n_estimators': 296.1206096058772, 'max_depth': 91.1275567312154, 'min_samples_leaf': 3}. Best is trial 11 with value: 0.88625.\u001b[0m\n",
      "\u001b[32m[I 2022-05-06 16:57:22,260]\u001b[0m Trial 67 finished with value: 0.875 and parameters: {'n_estimators': 283.1122288908794, 'max_depth': 97.78488425787354, 'min_samples_leaf': 5}. Best is trial 11 with value: 0.88625.\u001b[0m\n",
      "\u001b[32m[I 2022-05-06 16:57:27,033]\u001b[0m Trial 68 finished with value: 0.8712500000000001 and parameters: {'n_estimators': 244.73155942335018, 'max_depth': 127.80878213722042, 'min_samples_leaf': 4}. Best is trial 11 with value: 0.88625.\u001b[0m\n",
      "\u001b[32m[I 2022-05-06 16:57:31,068]\u001b[0m Trial 69 finished with value: 0.875 and parameters: {'n_estimators': 204.51986778457209, 'max_depth': 88.31575217766888, 'min_samples_leaf': 3}. Best is trial 11 with value: 0.88625.\u001b[0m\n",
      "\u001b[32m[I 2022-05-06 16:57:37,000]\u001b[0m Trial 70 finished with value: 0.87625 and parameters: {'n_estimators': 287.7340880361618, 'max_depth': 63.931272901828656, 'min_samples_leaf': 3}. Best is trial 11 with value: 0.88625.\u001b[0m\n",
      "\u001b[32m[I 2022-05-06 16:57:42,532]\u001b[0m Trial 71 finished with value: 0.88125 and parameters: {'n_estimators': 233.66702992683122, 'max_depth': 50.018763073065195, 'min_samples_leaf': 2}. Best is trial 11 with value: 0.88625.\u001b[0m\n",
      "\u001b[32m[I 2022-05-06 16:57:48,657]\u001b[0m Trial 72 finished with value: 0.880625 and parameters: {'n_estimators': 297.08619627455874, 'max_depth': 41.468516952528795, 'min_samples_leaf': 2}. Best is trial 11 with value: 0.88625.\u001b[0m\n",
      "\u001b[32m[I 2022-05-06 16:57:52,478]\u001b[0m Trial 73 finished with value: 0.881875 and parameters: {'n_estimators': 186.27649348498161, 'max_depth': 75.61707178038417, 'min_samples_leaf': 3}. Best is trial 11 with value: 0.88625.\u001b[0m\n",
      "\u001b[32m[I 2022-05-06 16:57:55,465]\u001b[0m Trial 74 finished with value: 0.855 and parameters: {'n_estimators': 182.17664136469904, 'max_depth': 81.44886587266886, 'min_samples_leaf': 16}. Best is trial 11 with value: 0.88625.\u001b[0m\n",
      "\u001b[32m[I 2022-05-06 16:58:00,853]\u001b[0m Trial 75 finished with value: 0.88375 and parameters: {'n_estimators': 259.33787231736244, 'max_depth': 58.23456541635604, 'min_samples_leaf': 2}. Best is trial 11 with value: 0.88625.\u001b[0m\n",
      "\u001b[32m[I 2022-05-06 16:58:05,947]\u001b[0m Trial 76 finished with value: 0.875625 and parameters: {'n_estimators': 261.07618726798853, 'max_depth': 65.53957887545448, 'min_samples_leaf': 4}. Best is trial 11 with value: 0.88625.\u001b[0m\n",
      "\u001b[32m[I 2022-05-06 16:58:10,543]\u001b[0m Trial 77 finished with value: 0.87625 and parameters: {'n_estimators': 219.519529165984, 'max_depth': 165.44364911943342, 'min_samples_leaf': 2}. Best is trial 11 with value: 0.88625.\u001b[0m\n",
      "\u001b[32m[I 2022-05-06 16:58:13,682]\u001b[0m Trial 78 finished with value: 0.8800000000000001 and parameters: {'n_estimators': 151.64559329257517, 'max_depth': 116.58522084796405, 'min_samples_leaf': 3}. Best is trial 11 with value: 0.88625.\u001b[0m\n",
      "\u001b[32m[I 2022-05-06 16:58:17,622]\u001b[0m Trial 79 finished with value: 0.870625 and parameters: {'n_estimators': 202.77882683050774, 'max_depth': 74.69358072396945, 'min_samples_leaf': 5}. Best is trial 11 with value: 0.88625.\u001b[0m\n",
      "\u001b[32m[I 2022-05-06 16:58:20,867]\u001b[0m Trial 80 finished with value: 0.878125 and parameters: {'n_estimators': 159.19046395098079, 'max_depth': 32.389031551785564, 'min_samples_leaf': 3}. Best is trial 11 with value: 0.88625.\u001b[0m\n",
      "\u001b[32m[I 2022-05-06 16:58:26,372]\u001b[0m Trial 81 finished with value: 0.8775 and parameters: {'n_estimators': 260.86566320117123, 'max_depth': 58.12769735087696, 'min_samples_leaf': 2}. Best is trial 11 with value: 0.88625.\u001b[0m\n",
      "\u001b[32m[I 2022-05-06 16:58:31,034]\u001b[0m Trial 82 finished with value: 0.878125 and parameters: {'n_estimators': 237.43308731702666, 'max_depth': 50.2279382073889, 'min_samples_leaf': 4}. Best is trial 11 with value: 0.88625.\u001b[0m\n",
      "\u001b[32m[I 2022-05-06 16:58:34,830]\u001b[0m Trial 83 finished with value: 0.874375 and parameters: {'n_estimators': 190.26541077006493, 'max_depth': 45.11508818270717, 'min_samples_leaf': 3}. Best is trial 11 with value: 0.88625.\u001b[0m\n",
      "\u001b[32m[I 2022-05-06 16:58:36,630]\u001b[0m Trial 84 finished with value: 0.849375 and parameters: {'n_estimators': 108.0500439583009, 'max_depth': 89.12837139308441, 'min_samples_leaf': 18}. Best is trial 11 with value: 0.88625.\u001b[0m\n",
      "\u001b[32m[I 2022-05-06 16:58:39,103]\u001b[0m Trial 85 finished with value: 0.8812500000000001 and parameters: {'n_estimators': 123.55893142795173, 'max_depth': 69.17415645433324, 'min_samples_leaf': 4}. Best is trial 11 with value: 0.88625.\u001b[0m\n",
      "\u001b[32m[I 2022-05-06 16:58:44,720]\u001b[0m Trial 86 finished with value: 0.8825 and parameters: {'n_estimators': 268.16708060785874, 'max_depth': 60.68548257742461, 'min_samples_leaf': 2}. Best is trial 11 with value: 0.88625.\u001b[0m\n",
      "\u001b[32m[I 2022-05-06 16:58:49,364]\u001b[0m Trial 87 finished with value: 0.875 and parameters: {'n_estimators': 222.84323476686617, 'max_depth': 38.43219866413702, 'min_samples_leaf': 2}. Best is trial 11 with value: 0.88625.\u001b[0m\n",
      "\u001b[32m[I 2022-05-06 16:58:55,066]\u001b[0m Trial 88 finished with value: 0.87375 and parameters: {'n_estimators': 281.9024478852827, 'max_depth': 110.5721062044897, 'min_samples_leaf': 3}. Best is trial 11 with value: 0.88625.\u001b[0m\n",
      "\u001b[32m[I 2022-05-06 16:59:00,013]\u001b[0m Trial 89 finished with value: 0.875 and parameters: {'n_estimators': 239.8515563156744, 'max_depth': 60.53524952876901, 'min_samples_leaf': 2}. Best is trial 11 with value: 0.88625.\u001b[0m\n",
      "\u001b[32m[I 2022-05-06 16:59:04,973]\u001b[0m Trial 90 finished with value: 0.865 and parameters: {'n_estimators': 272.1833440800689, 'max_depth': 54.94238537996978, 'min_samples_leaf': 8}. Best is trial 11 with value: 0.88625.\u001b[0m\n",
      "\u001b[32m[I 2022-05-06 16:59:05,390]\u001b[0m Trial 91 finished with value: 0.8362499999999999 and parameters: {'n_estimators': 19.928018283682768, 'max_depth': 48.44707893728212, 'min_samples_leaf': 3}. Best is trial 11 with value: 0.88625.\u001b[0m\n",
      "\u001b[32m[I 2022-05-06 16:59:09,086]\u001b[0m Trial 92 finished with value: 0.875625 and parameters: {'n_estimators': 178.90763448584386, 'max_depth': 45.60907670249017, 'min_samples_leaf': 2}. Best is trial 11 with value: 0.88625.\u001b[0m\n",
      "\u001b[32m[I 2022-05-06 16:59:13,385]\u001b[0m Trial 93 finished with value: 0.878125 and parameters: {'n_estimators': 211.46085862600265, 'max_depth': 33.436718083618835, 'min_samples_leaf': 3}. Best is trial 11 with value: 0.88625.\u001b[0m\n",
      "\u001b[32m[I 2022-05-06 16:59:18,707]\u001b[0m Trial 94 finished with value: 0.878125 and parameters: {'n_estimators': 251.59366264074293, 'max_depth': 41.81302345099333, 'min_samples_leaf': 2}. Best is trial 11 with value: 0.88625.\u001b[0m\n",
      "\u001b[32m[I 2022-05-06 16:59:24,316]\u001b[0m Trial 95 finished with value: 0.8825000000000001 and parameters: {'n_estimators': 269.0935716862158, 'max_depth': 62.311189734755544, 'min_samples_leaf': 2}. Best is trial 11 with value: 0.88625.\u001b[0m\n",
      "\u001b[32m[I 2022-05-06 16:59:30,163]\u001b[0m Trial 96 finished with value: 0.8787499999999999 and parameters: {'n_estimators': 299.6298419178381, 'max_depth': 64.80931522587076, 'min_samples_leaf': 4}. Best is trial 11 with value: 0.88625.\u001b[0m\n",
      "\u001b[32m[I 2022-05-06 16:59:31,205]\u001b[0m Trial 97 finished with value: 0.8699999999999999 and parameters: {'n_estimators': 47.87750840146839, 'max_depth': 52.11779291763616, 'min_samples_leaf': 2}. Best is trial 11 with value: 0.88625.\u001b[0m\n",
      "\u001b[32m[I 2022-05-06 16:59:35,890]\u001b[0m Trial 98 finished with value: 0.8775000000000001 and parameters: {'n_estimators': 231.2303763395088, 'max_depth': 37.68335102423925, 'min_samples_leaf': 3}. Best is trial 11 with value: 0.88625.\u001b[0m\n",
      "\u001b[32m[I 2022-05-06 16:59:39,598]\u001b[0m Trial 99 finished with value: 0.86875 and parameters: {'n_estimators': 190.59360083071462, 'max_depth': 82.56956457302454, 'min_samples_leaf': 4}. Best is trial 11 with value: 0.88625.\u001b[0m\n"
     ]
    },
    {
     "name": "stdout",
     "output_type": "stream",
     "text": [
      "Accuracy: 0.88625\n",
      "Best hyperparameters: {'n_estimators': 106.98335337738521, 'max_depth': 39.64852544538011, 'min_samples_leaf': 2}\n"
     ]
    }
   ],
   "source": [
    "study = optuna.create_study(direction='maximize')\n",
    "study.optimize(objective, n_trials=100)\n",
    "best_trial = study.best_trial\n",
    "print('Accuracy: {}'.format(best_trial.value))\n",
    "print(\"Best hyperparameters: {}\".format(best_trial.params))"
   ]
  },
  {
   "cell_type": "code",
   "execution_count": 14,
   "metadata": {},
   "outputs": [
    {
     "data": {
      "application/vnd.plotly.v1+json": {
       "config": {
        "plotlyServerURL": "https://plot.ly"
       },
       "data": [
        {
         "mode": "markers",
         "name": "Objective Value",
         "type": "scatter",
         "x": [
          0,
          1,
          2,
          3,
          4,
          5,
          6,
          7,
          8,
          9,
          10,
          11,
          12,
          13,
          14,
          15,
          16,
          17,
          18,
          19,
          20,
          21,
          22,
          23,
          24,
          25,
          26,
          27,
          28,
          29,
          30,
          31,
          32,
          33,
          34,
          35,
          36,
          37,
          38,
          39,
          40,
          41,
          42,
          43,
          44,
          45,
          46,
          47,
          48,
          49,
          50,
          51,
          52,
          53,
          54,
          55,
          56,
          57,
          58,
          59,
          60,
          61,
          62,
          63,
          64,
          65,
          66,
          67,
          68,
          69,
          70,
          71,
          72,
          73,
          74,
          75,
          76,
          77,
          78,
          79,
          80,
          81,
          82,
          83,
          84,
          85,
          86,
          87,
          88,
          89,
          90,
          91,
          92,
          93,
          94,
          95,
          96,
          97,
          98,
          99
         ],
         "y": [
          0.76875,
          0.865,
          0.79875,
          0.846875,
          0.7568750000000001,
          0.854375,
          0.830625,
          0.82875,
          0.8674999999999999,
          0.855,
          0.881875,
          0.88625,
          0.8512500000000001,
          0.8768750000000001,
          0.8725,
          0.875625,
          0.869375,
          0.8756250000000001,
          0.856875,
          0.8625,
          0.855,
          0.8756250000000001,
          0.8825,
          0.87125,
          0.88,
          0.86875,
          0.8518749999999999,
          0.86125,
          0.88125,
          0.8656250000000001,
          0.858125,
          0.880625,
          0.878125,
          0.879375,
          0.874375,
          0.8218749999999999,
          0.8812500000000001,
          0.8687499999999999,
          0.87,
          0.86625,
          0.869375,
          0.8812500000000001,
          0.8787499999999999,
          0.878125,
          0.8725,
          0.826875,
          0.874375,
          0.868125,
          0.8731249999999999,
          0.8768750000000001,
          0.8725,
          0.8781249999999999,
          0.8812500000000001,
          0.874375,
          0.880625,
          0.7575000000000001,
          0.88,
          0.8725,
          0.881875,
          0.8712500000000001,
          0.870625,
          0.883125,
          0.88375,
          0.88375,
          0.875625,
          0.88,
          0.88375,
          0.875,
          0.8712500000000001,
          0.875,
          0.87625,
          0.88125,
          0.880625,
          0.881875,
          0.855,
          0.88375,
          0.875625,
          0.87625,
          0.8800000000000001,
          0.870625,
          0.878125,
          0.8775,
          0.878125,
          0.874375,
          0.849375,
          0.8812500000000001,
          0.8825,
          0.875,
          0.87375,
          0.875,
          0.865,
          0.8362499999999999,
          0.875625,
          0.878125,
          0.878125,
          0.8825000000000001,
          0.8787499999999999,
          0.8699999999999999,
          0.8775000000000001,
          0.86875
         ]
        },
        {
         "name": "Best Value",
         "type": "scatter",
         "x": [
          0,
          1,
          2,
          3,
          4,
          5,
          6,
          7,
          8,
          9,
          10,
          11,
          12,
          13,
          14,
          15,
          16,
          17,
          18,
          19,
          20,
          21,
          22,
          23,
          24,
          25,
          26,
          27,
          28,
          29,
          30,
          31,
          32,
          33,
          34,
          35,
          36,
          37,
          38,
          39,
          40,
          41,
          42,
          43,
          44,
          45,
          46,
          47,
          48,
          49,
          50,
          51,
          52,
          53,
          54,
          55,
          56,
          57,
          58,
          59,
          60,
          61,
          62,
          63,
          64,
          65,
          66,
          67,
          68,
          69,
          70,
          71,
          72,
          73,
          74,
          75,
          76,
          77,
          78,
          79,
          80,
          81,
          82,
          83,
          84,
          85,
          86,
          87,
          88,
          89,
          90,
          91,
          92,
          93,
          94,
          95,
          96,
          97,
          98,
          99
         ],
         "y": [
          0.76875,
          0.865,
          0.865,
          0.865,
          0.865,
          0.865,
          0.865,
          0.865,
          0.8674999999999999,
          0.8674999999999999,
          0.881875,
          0.88625,
          0.88625,
          0.88625,
          0.88625,
          0.88625,
          0.88625,
          0.88625,
          0.88625,
          0.88625,
          0.88625,
          0.88625,
          0.88625,
          0.88625,
          0.88625,
          0.88625,
          0.88625,
          0.88625,
          0.88625,
          0.88625,
          0.88625,
          0.88625,
          0.88625,
          0.88625,
          0.88625,
          0.88625,
          0.88625,
          0.88625,
          0.88625,
          0.88625,
          0.88625,
          0.88625,
          0.88625,
          0.88625,
          0.88625,
          0.88625,
          0.88625,
          0.88625,
          0.88625,
          0.88625,
          0.88625,
          0.88625,
          0.88625,
          0.88625,
          0.88625,
          0.88625,
          0.88625,
          0.88625,
          0.88625,
          0.88625,
          0.88625,
          0.88625,
          0.88625,
          0.88625,
          0.88625,
          0.88625,
          0.88625,
          0.88625,
          0.88625,
          0.88625,
          0.88625,
          0.88625,
          0.88625,
          0.88625,
          0.88625,
          0.88625,
          0.88625,
          0.88625,
          0.88625,
          0.88625,
          0.88625,
          0.88625,
          0.88625,
          0.88625,
          0.88625,
          0.88625,
          0.88625,
          0.88625,
          0.88625,
          0.88625,
          0.88625,
          0.88625,
          0.88625,
          0.88625,
          0.88625,
          0.88625,
          0.88625,
          0.88625,
          0.88625,
          0.88625
         ]
        }
       ],
       "layout": {
        "template": {
         "data": {
          "bar": [
           {
            "error_x": {
             "color": "#2a3f5f"
            },
            "error_y": {
             "color": "#2a3f5f"
            },
            "marker": {
             "line": {
              "color": "#E5ECF6",
              "width": 0.5
             },
             "pattern": {
              "fillmode": "overlay",
              "size": 10,
              "solidity": 0.2
             }
            },
            "type": "bar"
           }
          ],
          "barpolar": [
           {
            "marker": {
             "line": {
              "color": "#E5ECF6",
              "width": 0.5
             },
             "pattern": {
              "fillmode": "overlay",
              "size": 10,
              "solidity": 0.2
             }
            },
            "type": "barpolar"
           }
          ],
          "carpet": [
           {
            "aaxis": {
             "endlinecolor": "#2a3f5f",
             "gridcolor": "white",
             "linecolor": "white",
             "minorgridcolor": "white",
             "startlinecolor": "#2a3f5f"
            },
            "baxis": {
             "endlinecolor": "#2a3f5f",
             "gridcolor": "white",
             "linecolor": "white",
             "minorgridcolor": "white",
             "startlinecolor": "#2a3f5f"
            },
            "type": "carpet"
           }
          ],
          "choropleth": [
           {
            "colorbar": {
             "outlinewidth": 0,
             "ticks": ""
            },
            "type": "choropleth"
           }
          ],
          "contour": [
           {
            "colorbar": {
             "outlinewidth": 0,
             "ticks": ""
            },
            "colorscale": [
             [
              0,
              "#0d0887"
             ],
             [
              0.1111111111111111,
              "#46039f"
             ],
             [
              0.2222222222222222,
              "#7201a8"
             ],
             [
              0.3333333333333333,
              "#9c179e"
             ],
             [
              0.4444444444444444,
              "#bd3786"
             ],
             [
              0.5555555555555556,
              "#d8576b"
             ],
             [
              0.6666666666666666,
              "#ed7953"
             ],
             [
              0.7777777777777778,
              "#fb9f3a"
             ],
             [
              0.8888888888888888,
              "#fdca26"
             ],
             [
              1,
              "#f0f921"
             ]
            ],
            "type": "contour"
           }
          ],
          "contourcarpet": [
           {
            "colorbar": {
             "outlinewidth": 0,
             "ticks": ""
            },
            "type": "contourcarpet"
           }
          ],
          "heatmap": [
           {
            "colorbar": {
             "outlinewidth": 0,
             "ticks": ""
            },
            "colorscale": [
             [
              0,
              "#0d0887"
             ],
             [
              0.1111111111111111,
              "#46039f"
             ],
             [
              0.2222222222222222,
              "#7201a8"
             ],
             [
              0.3333333333333333,
              "#9c179e"
             ],
             [
              0.4444444444444444,
              "#bd3786"
             ],
             [
              0.5555555555555556,
              "#d8576b"
             ],
             [
              0.6666666666666666,
              "#ed7953"
             ],
             [
              0.7777777777777778,
              "#fb9f3a"
             ],
             [
              0.8888888888888888,
              "#fdca26"
             ],
             [
              1,
              "#f0f921"
             ]
            ],
            "type": "heatmap"
           }
          ],
          "heatmapgl": [
           {
            "colorbar": {
             "outlinewidth": 0,
             "ticks": ""
            },
            "colorscale": [
             [
              0,
              "#0d0887"
             ],
             [
              0.1111111111111111,
              "#46039f"
             ],
             [
              0.2222222222222222,
              "#7201a8"
             ],
             [
              0.3333333333333333,
              "#9c179e"
             ],
             [
              0.4444444444444444,
              "#bd3786"
             ],
             [
              0.5555555555555556,
              "#d8576b"
             ],
             [
              0.6666666666666666,
              "#ed7953"
             ],
             [
              0.7777777777777778,
              "#fb9f3a"
             ],
             [
              0.8888888888888888,
              "#fdca26"
             ],
             [
              1,
              "#f0f921"
             ]
            ],
            "type": "heatmapgl"
           }
          ],
          "histogram": [
           {
            "marker": {
             "pattern": {
              "fillmode": "overlay",
              "size": 10,
              "solidity": 0.2
             }
            },
            "type": "histogram"
           }
          ],
          "histogram2d": [
           {
            "colorbar": {
             "outlinewidth": 0,
             "ticks": ""
            },
            "colorscale": [
             [
              0,
              "#0d0887"
             ],
             [
              0.1111111111111111,
              "#46039f"
             ],
             [
              0.2222222222222222,
              "#7201a8"
             ],
             [
              0.3333333333333333,
              "#9c179e"
             ],
             [
              0.4444444444444444,
              "#bd3786"
             ],
             [
              0.5555555555555556,
              "#d8576b"
             ],
             [
              0.6666666666666666,
              "#ed7953"
             ],
             [
              0.7777777777777778,
              "#fb9f3a"
             ],
             [
              0.8888888888888888,
              "#fdca26"
             ],
             [
              1,
              "#f0f921"
             ]
            ],
            "type": "histogram2d"
           }
          ],
          "histogram2dcontour": [
           {
            "colorbar": {
             "outlinewidth": 0,
             "ticks": ""
            },
            "colorscale": [
             [
              0,
              "#0d0887"
             ],
             [
              0.1111111111111111,
              "#46039f"
             ],
             [
              0.2222222222222222,
              "#7201a8"
             ],
             [
              0.3333333333333333,
              "#9c179e"
             ],
             [
              0.4444444444444444,
              "#bd3786"
             ],
             [
              0.5555555555555556,
              "#d8576b"
             ],
             [
              0.6666666666666666,
              "#ed7953"
             ],
             [
              0.7777777777777778,
              "#fb9f3a"
             ],
             [
              0.8888888888888888,
              "#fdca26"
             ],
             [
              1,
              "#f0f921"
             ]
            ],
            "type": "histogram2dcontour"
           }
          ],
          "mesh3d": [
           {
            "colorbar": {
             "outlinewidth": 0,
             "ticks": ""
            },
            "type": "mesh3d"
           }
          ],
          "parcoords": [
           {
            "line": {
             "colorbar": {
              "outlinewidth": 0,
              "ticks": ""
             }
            },
            "type": "parcoords"
           }
          ],
          "pie": [
           {
            "automargin": true,
            "type": "pie"
           }
          ],
          "scatter": [
           {
            "fillpattern": {
             "fillmode": "overlay",
             "size": 10,
             "solidity": 0.2
            },
            "type": "scatter"
           }
          ],
          "scatter3d": [
           {
            "line": {
             "colorbar": {
              "outlinewidth": 0,
              "ticks": ""
             }
            },
            "marker": {
             "colorbar": {
              "outlinewidth": 0,
              "ticks": ""
             }
            },
            "type": "scatter3d"
           }
          ],
          "scattercarpet": [
           {
            "marker": {
             "colorbar": {
              "outlinewidth": 0,
              "ticks": ""
             }
            },
            "type": "scattercarpet"
           }
          ],
          "scattergeo": [
           {
            "marker": {
             "colorbar": {
              "outlinewidth": 0,
              "ticks": ""
             }
            },
            "type": "scattergeo"
           }
          ],
          "scattergl": [
           {
            "marker": {
             "colorbar": {
              "outlinewidth": 0,
              "ticks": ""
             }
            },
            "type": "scattergl"
           }
          ],
          "scattermapbox": [
           {
            "marker": {
             "colorbar": {
              "outlinewidth": 0,
              "ticks": ""
             }
            },
            "type": "scattermapbox"
           }
          ],
          "scatterpolar": [
           {
            "marker": {
             "colorbar": {
              "outlinewidth": 0,
              "ticks": ""
             }
            },
            "type": "scatterpolar"
           }
          ],
          "scatterpolargl": [
           {
            "marker": {
             "colorbar": {
              "outlinewidth": 0,
              "ticks": ""
             }
            },
            "type": "scatterpolargl"
           }
          ],
          "scatterternary": [
           {
            "marker": {
             "colorbar": {
              "outlinewidth": 0,
              "ticks": ""
             }
            },
            "type": "scatterternary"
           }
          ],
          "surface": [
           {
            "colorbar": {
             "outlinewidth": 0,
             "ticks": ""
            },
            "colorscale": [
             [
              0,
              "#0d0887"
             ],
             [
              0.1111111111111111,
              "#46039f"
             ],
             [
              0.2222222222222222,
              "#7201a8"
             ],
             [
              0.3333333333333333,
              "#9c179e"
             ],
             [
              0.4444444444444444,
              "#bd3786"
             ],
             [
              0.5555555555555556,
              "#d8576b"
             ],
             [
              0.6666666666666666,
              "#ed7953"
             ],
             [
              0.7777777777777778,
              "#fb9f3a"
             ],
             [
              0.8888888888888888,
              "#fdca26"
             ],
             [
              1,
              "#f0f921"
             ]
            ],
            "type": "surface"
           }
          ],
          "table": [
           {
            "cells": {
             "fill": {
              "color": "#EBF0F8"
             },
             "line": {
              "color": "white"
             }
            },
            "header": {
             "fill": {
              "color": "#C8D4E3"
             },
             "line": {
              "color": "white"
             }
            },
            "type": "table"
           }
          ]
         },
         "layout": {
          "annotationdefaults": {
           "arrowcolor": "#2a3f5f",
           "arrowhead": 0,
           "arrowwidth": 1
          },
          "autotypenumbers": "strict",
          "coloraxis": {
           "colorbar": {
            "outlinewidth": 0,
            "ticks": ""
           }
          },
          "colorscale": {
           "diverging": [
            [
             0,
             "#8e0152"
            ],
            [
             0.1,
             "#c51b7d"
            ],
            [
             0.2,
             "#de77ae"
            ],
            [
             0.3,
             "#f1b6da"
            ],
            [
             0.4,
             "#fde0ef"
            ],
            [
             0.5,
             "#f7f7f7"
            ],
            [
             0.6,
             "#e6f5d0"
            ],
            [
             0.7,
             "#b8e186"
            ],
            [
             0.8,
             "#7fbc41"
            ],
            [
             0.9,
             "#4d9221"
            ],
            [
             1,
             "#276419"
            ]
           ],
           "sequential": [
            [
             0,
             "#0d0887"
            ],
            [
             0.1111111111111111,
             "#46039f"
            ],
            [
             0.2222222222222222,
             "#7201a8"
            ],
            [
             0.3333333333333333,
             "#9c179e"
            ],
            [
             0.4444444444444444,
             "#bd3786"
            ],
            [
             0.5555555555555556,
             "#d8576b"
            ],
            [
             0.6666666666666666,
             "#ed7953"
            ],
            [
             0.7777777777777778,
             "#fb9f3a"
            ],
            [
             0.8888888888888888,
             "#fdca26"
            ],
            [
             1,
             "#f0f921"
            ]
           ],
           "sequentialminus": [
            [
             0,
             "#0d0887"
            ],
            [
             0.1111111111111111,
             "#46039f"
            ],
            [
             0.2222222222222222,
             "#7201a8"
            ],
            [
             0.3333333333333333,
             "#9c179e"
            ],
            [
             0.4444444444444444,
             "#bd3786"
            ],
            [
             0.5555555555555556,
             "#d8576b"
            ],
            [
             0.6666666666666666,
             "#ed7953"
            ],
            [
             0.7777777777777778,
             "#fb9f3a"
            ],
            [
             0.8888888888888888,
             "#fdca26"
            ],
            [
             1,
             "#f0f921"
            ]
           ]
          },
          "colorway": [
           "#636efa",
           "#EF553B",
           "#00cc96",
           "#ab63fa",
           "#FFA15A",
           "#19d3f3",
           "#FF6692",
           "#B6E880",
           "#FF97FF",
           "#FECB52"
          ],
          "font": {
           "color": "#2a3f5f"
          },
          "geo": {
           "bgcolor": "white",
           "lakecolor": "white",
           "landcolor": "#E5ECF6",
           "showlakes": true,
           "showland": true,
           "subunitcolor": "white"
          },
          "hoverlabel": {
           "align": "left"
          },
          "hovermode": "closest",
          "mapbox": {
           "style": "light"
          },
          "paper_bgcolor": "white",
          "plot_bgcolor": "#E5ECF6",
          "polar": {
           "angularaxis": {
            "gridcolor": "white",
            "linecolor": "white",
            "ticks": ""
           },
           "bgcolor": "#E5ECF6",
           "radialaxis": {
            "gridcolor": "white",
            "linecolor": "white",
            "ticks": ""
           }
          },
          "scene": {
           "xaxis": {
            "backgroundcolor": "#E5ECF6",
            "gridcolor": "white",
            "gridwidth": 2,
            "linecolor": "white",
            "showbackground": true,
            "ticks": "",
            "zerolinecolor": "white"
           },
           "yaxis": {
            "backgroundcolor": "#E5ECF6",
            "gridcolor": "white",
            "gridwidth": 2,
            "linecolor": "white",
            "showbackground": true,
            "ticks": "",
            "zerolinecolor": "white"
           },
           "zaxis": {
            "backgroundcolor": "#E5ECF6",
            "gridcolor": "white",
            "gridwidth": 2,
            "linecolor": "white",
            "showbackground": true,
            "ticks": "",
            "zerolinecolor": "white"
           }
          },
          "shapedefaults": {
           "line": {
            "color": "#2a3f5f"
           }
          },
          "ternary": {
           "aaxis": {
            "gridcolor": "white",
            "linecolor": "white",
            "ticks": ""
           },
           "baxis": {
            "gridcolor": "white",
            "linecolor": "white",
            "ticks": ""
           },
           "bgcolor": "#E5ECF6",
           "caxis": {
            "gridcolor": "white",
            "linecolor": "white",
            "ticks": ""
           }
          },
          "title": {
           "x": 0.05
          },
          "xaxis": {
           "automargin": true,
           "gridcolor": "white",
           "linecolor": "white",
           "ticks": "",
           "title": {
            "standoff": 15
           },
           "zerolinecolor": "white",
           "zerolinewidth": 2
          },
          "yaxis": {
           "automargin": true,
           "gridcolor": "white",
           "linecolor": "white",
           "ticks": "",
           "title": {
            "standoff": 15
           },
           "zerolinecolor": "white",
           "zerolinewidth": 2
          }
         }
        },
        "title": {
         "text": "Optimization History Plot"
        },
        "xaxis": {
         "title": {
          "text": "#Trials"
         }
        },
        "yaxis": {
         "title": {
          "text": "Objective Value"
         }
        }
       }
      }
     },
     "metadata": {},
     "output_type": "display_data"
    }
   ],
   "source": [
    "optuna.visualization.plot_optimization_history(study)"
   ]
  },
  {
   "cell_type": "code",
   "execution_count": 15,
   "metadata": {},
   "outputs": [
    {
     "data": {
      "application/vnd.plotly.v1+json": {
       "config": {
        "plotlyServerURL": "https://plot.ly"
       },
       "data": [
        {
         "marker": {
          "color": [
           0,
           1,
           2,
           3,
           4,
           5,
           6,
           7,
           8,
           9,
           10,
           11,
           12,
           13,
           14,
           15,
           16,
           17,
           18,
           19,
           20,
           21,
           22,
           23,
           24,
           25,
           26,
           27,
           28,
           29,
           30,
           31,
           32,
           33,
           34,
           35,
           36,
           37,
           38,
           39,
           40,
           41,
           42,
           43,
           44,
           45,
           46,
           47,
           48,
           49,
           50,
           51,
           52,
           53,
           54,
           55,
           56,
           57,
           58,
           59,
           60,
           61,
           62,
           63,
           64,
           65,
           66,
           67,
           68,
           69,
           70,
           71,
           72,
           73,
           74,
           75,
           76,
           77,
           78,
           79,
           80,
           81,
           82,
           83,
           84,
           85,
           86,
           87,
           88,
           89,
           90,
           91,
           92,
           93,
           94,
           95,
           96,
           97,
           98,
           99
          ],
          "colorbar": {
           "title": {
            "text": "#Trials"
           },
           "x": 1,
           "xpad": 40
          },
          "colorscale": [
           [
            0,
            "rgb(247,251,255)"
           ],
           [
            0.125,
            "rgb(222,235,247)"
           ],
           [
            0.25,
            "rgb(198,219,239)"
           ],
           [
            0.375,
            "rgb(158,202,225)"
           ],
           [
            0.5,
            "rgb(107,174,214)"
           ],
           [
            0.625,
            "rgb(66,146,198)"
           ],
           [
            0.75,
            "rgb(33,113,181)"
           ],
           [
            0.875,
            "rgb(8,81,156)"
           ],
           [
            1,
            "rgb(8,48,107)"
           ]
          ],
          "line": {
           "color": "Grey",
           "width": 0.5
          },
          "showscale": true
         },
         "mode": "markers",
         "showlegend": false,
         "type": "scatter",
         "x": [
          84.45707822726965,
          298.02920238111227,
          15.428539617780112,
          213.61951113344585,
          14.736481741655702,
          276.24578672224385,
          458.63084828839317,
          143.9072071735463,
          190.21031723326305,
          61.735120984069354,
          47.825823458329005,
          39.64852544538011,
          34.29394792583198,
          30.256399883068525,
          34.351695864689866,
          66.51210279823145,
          23.43979347433556,
          102.72832638223763,
          46.352630721092694,
          10.401713708212938,
          47.69659207348574,
          24.241181527652667,
          27.57197493784929,
          48.98736277333666,
          14.523386321504063,
          20.61882821539261,
          99.51240295645722,
          44.813568892657415,
          30.267103453973412,
          82.41171560789147,
          126.62579484565639,
          29.441870279338737,
          18.656350960758935,
          39.589771549397135,
          61.31537389859607,
          25.428690890020547,
          17.807626151854837,
          12.398452176583076,
          17.5565039782777,
          39.29882528895271,
          15.293127579418329,
          28.72189228396512,
          55.06306151541019,
          21.335077280477385,
          27.606479916131054,
          35.117065070178654,
          12.731281453685828,
          496.35885100192246,
          72.83493299347593,
          368.89459797977713,
          36.95522401265749,
          30.197945685119294,
          18.26182949955658,
          18.31017764169062,
          22.195631102889905,
          11.10544690021594,
          16.792567796208225,
          26.337232223018113,
          56.38166107709698,
          57.186984706902734,
          42.93555692403772,
          52.75190933000072,
          52.555033424644236,
          51.67656489113255,
          73.3814535242968,
          52.99904034910656,
          91.1275567312154,
          97.78488425787354,
          127.80878213722042,
          88.31575217766888,
          63.931272901828656,
          50.018763073065195,
          41.468516952528795,
          75.61707178038417,
          81.44886587266886,
          58.23456541635604,
          65.53957887545448,
          165.44364911943342,
          116.58522084796405,
          74.69358072396945,
          32.389031551785564,
          58.12769735087696,
          50.2279382073889,
          45.11508818270717,
          89.12837139308441,
          69.17415645433324,
          60.68548257742461,
          38.43219866413702,
          110.5721062044897,
          60.53524952876901,
          54.94238537996978,
          48.44707893728212,
          45.60907670249017,
          33.436718083618835,
          41.81302345099333,
          62.311189734755544,
          64.80931522587076,
          52.11779291763616,
          37.68335102423925,
          82.56956457302454
         ],
         "xaxis": "x",
         "y": [
          0.76875,
          0.865,
          0.79875,
          0.846875,
          0.7568750000000001,
          0.854375,
          0.830625,
          0.82875,
          0.8674999999999999,
          0.855,
          0.881875,
          0.88625,
          0.8512500000000001,
          0.8768750000000001,
          0.8725,
          0.875625,
          0.869375,
          0.8756250000000001,
          0.856875,
          0.8625,
          0.855,
          0.8756250000000001,
          0.8825,
          0.87125,
          0.88,
          0.86875,
          0.8518749999999999,
          0.86125,
          0.88125,
          0.8656250000000001,
          0.858125,
          0.880625,
          0.878125,
          0.879375,
          0.874375,
          0.8218749999999999,
          0.8812500000000001,
          0.8687499999999999,
          0.87,
          0.86625,
          0.869375,
          0.8812500000000001,
          0.8787499999999999,
          0.878125,
          0.8725,
          0.826875,
          0.874375,
          0.868125,
          0.8731249999999999,
          0.8768750000000001,
          0.8725,
          0.8781249999999999,
          0.8812500000000001,
          0.874375,
          0.880625,
          0.7575000000000001,
          0.88,
          0.8725,
          0.881875,
          0.8712500000000001,
          0.870625,
          0.883125,
          0.88375,
          0.88375,
          0.875625,
          0.88,
          0.88375,
          0.875,
          0.8712500000000001,
          0.875,
          0.87625,
          0.88125,
          0.880625,
          0.881875,
          0.855,
          0.88375,
          0.875625,
          0.87625,
          0.8800000000000001,
          0.870625,
          0.878125,
          0.8775,
          0.878125,
          0.874375,
          0.849375,
          0.8812500000000001,
          0.8825,
          0.875,
          0.87375,
          0.875,
          0.865,
          0.8362499999999999,
          0.875625,
          0.878125,
          0.878125,
          0.8825000000000001,
          0.8787499999999999,
          0.8699999999999999,
          0.8775000000000001,
          0.86875
         ],
         "yaxis": "y"
        },
        {
         "marker": {
          "color": [
           0,
           1,
           2,
           3,
           4,
           5,
           6,
           7,
           8,
           9,
           10,
           11,
           12,
           13,
           14,
           15,
           16,
           17,
           18,
           19,
           20,
           21,
           22,
           23,
           24,
           25,
           26,
           27,
           28,
           29,
           30,
           31,
           32,
           33,
           34,
           35,
           36,
           37,
           38,
           39,
           40,
           41,
           42,
           43,
           44,
           45,
           46,
           47,
           48,
           49,
           50,
           51,
           52,
           53,
           54,
           55,
           56,
           57,
           58,
           59,
           60,
           61,
           62,
           63,
           64,
           65,
           66,
           67,
           68,
           69,
           70,
           71,
           72,
           73,
           74,
           75,
           76,
           77,
           78,
           79,
           80,
           81,
           82,
           83,
           84,
           85,
           86,
           87,
           88,
           89,
           90,
           91,
           92,
           93,
           94,
           95,
           96,
           97,
           98,
           99
          ],
          "colorbar": {
           "title": {
            "text": "#Trials"
           },
           "x": 1,
           "xpad": 40
          },
          "colorscale": [
           [
            0,
            "rgb(247,251,255)"
           ],
           [
            0.125,
            "rgb(222,235,247)"
           ],
           [
            0.25,
            "rgb(198,219,239)"
           ],
           [
            0.375,
            "rgb(158,202,225)"
           ],
           [
            0.5,
            "rgb(107,174,214)"
           ],
           [
            0.625,
            "rgb(66,146,198)"
           ],
           [
            0.75,
            "rgb(33,113,181)"
           ],
           [
            0.875,
            "rgb(8,81,156)"
           ],
           [
            1,
            "rgb(8,48,107)"
           ]
          ],
          "line": {
           "color": "Grey",
           "width": 0.5
          },
          "showscale": false
         },
         "mode": "markers",
         "showlegend": false,
         "type": "scatter",
         "x": [
          6,
          2,
          14,
          4,
          9,
          12,
          16,
          10,
          4,
          7,
          2,
          2,
          20,
          2,
          6,
          2,
          8,
          4,
          12,
          5,
          15,
          2,
          2,
          4,
          3,
          6,
          20,
          7,
          3,
          5,
          18,
          3,
          2,
          3,
          5,
          3,
          2,
          6,
          9,
          4,
          2,
          3,
          2,
          4,
          5,
          2,
          3,
          11,
          7,
          4,
          3,
          3,
          2,
          2,
          4,
          13,
          2,
          5,
          2,
          4,
          6,
          2,
          3,
          2,
          3,
          2,
          3,
          5,
          4,
          3,
          3,
          2,
          2,
          3,
          16,
          2,
          4,
          2,
          3,
          5,
          3,
          2,
          4,
          3,
          18,
          4,
          2,
          2,
          3,
          2,
          8,
          3,
          2,
          3,
          2,
          2,
          4,
          2,
          3,
          4
         ],
         "xaxis": "x2",
         "y": [
          0.76875,
          0.865,
          0.79875,
          0.846875,
          0.7568750000000001,
          0.854375,
          0.830625,
          0.82875,
          0.8674999999999999,
          0.855,
          0.881875,
          0.88625,
          0.8512500000000001,
          0.8768750000000001,
          0.8725,
          0.875625,
          0.869375,
          0.8756250000000001,
          0.856875,
          0.8625,
          0.855,
          0.8756250000000001,
          0.8825,
          0.87125,
          0.88,
          0.86875,
          0.8518749999999999,
          0.86125,
          0.88125,
          0.8656250000000001,
          0.858125,
          0.880625,
          0.878125,
          0.879375,
          0.874375,
          0.8218749999999999,
          0.8812500000000001,
          0.8687499999999999,
          0.87,
          0.86625,
          0.869375,
          0.8812500000000001,
          0.8787499999999999,
          0.878125,
          0.8725,
          0.826875,
          0.874375,
          0.868125,
          0.8731249999999999,
          0.8768750000000001,
          0.8725,
          0.8781249999999999,
          0.8812500000000001,
          0.874375,
          0.880625,
          0.7575000000000001,
          0.88,
          0.8725,
          0.881875,
          0.8712500000000001,
          0.870625,
          0.883125,
          0.88375,
          0.88375,
          0.875625,
          0.88,
          0.88375,
          0.875,
          0.8712500000000001,
          0.875,
          0.87625,
          0.88125,
          0.880625,
          0.881875,
          0.855,
          0.88375,
          0.875625,
          0.87625,
          0.8800000000000001,
          0.870625,
          0.878125,
          0.8775,
          0.878125,
          0.874375,
          0.849375,
          0.8812500000000001,
          0.8825,
          0.875,
          0.87375,
          0.875,
          0.865,
          0.8362499999999999,
          0.875625,
          0.878125,
          0.878125,
          0.8825000000000001,
          0.8787499999999999,
          0.8699999999999999,
          0.8775000000000001,
          0.86875
         ],
         "yaxis": "y2"
        },
        {
         "marker": {
          "color": [
           0,
           1,
           2,
           3,
           4,
           5,
           6,
           7,
           8,
           9,
           10,
           11,
           12,
           13,
           14,
           15,
           16,
           17,
           18,
           19,
           20,
           21,
           22,
           23,
           24,
           25,
           26,
           27,
           28,
           29,
           30,
           31,
           32,
           33,
           34,
           35,
           36,
           37,
           38,
           39,
           40,
           41,
           42,
           43,
           44,
           45,
           46,
           47,
           48,
           49,
           50,
           51,
           52,
           53,
           54,
           55,
           56,
           57,
           58,
           59,
           60,
           61,
           62,
           63,
           64,
           65,
           66,
           67,
           68,
           69,
           70,
           71,
           72,
           73,
           74,
           75,
           76,
           77,
           78,
           79,
           80,
           81,
           82,
           83,
           84,
           85,
           86,
           87,
           88,
           89,
           90,
           91,
           92,
           93,
           94,
           95,
           96,
           97,
           98,
           99
          ],
          "colorbar": {
           "title": {
            "text": "#Trials"
           },
           "x": 1,
           "xpad": 40
          },
          "colorscale": [
           [
            0,
            "rgb(247,251,255)"
           ],
           [
            0.125,
            "rgb(222,235,247)"
           ],
           [
            0.25,
            "rgb(198,219,239)"
           ],
           [
            0.375,
            "rgb(158,202,225)"
           ],
           [
            0.5,
            "rgb(107,174,214)"
           ],
           [
            0.625,
            "rgb(66,146,198)"
           ],
           [
            0.75,
            "rgb(33,113,181)"
           ],
           [
            0.875,
            "rgb(8,81,156)"
           ],
           [
            1,
            "rgb(8,48,107)"
           ]
          ],
          "line": {
           "color": "Grey",
           "width": 0.5
          },
          "showscale": false
         },
         "mode": "markers",
         "showlegend": false,
         "type": "scatter",
         "x": [
          6.620750116799072,
          42.08678291709898,
          13.56205001442954,
          23.80451941571961,
          6.758905810620132,
          157.73403153941518,
          24.42227042147574,
          24.450818428230473,
          56.89534557270174,
          29.489745956016954,
          106.71483938050022,
          106.98335337738521,
          152.50039973818198,
          83.96959405326373,
          228.76676921317136,
          73.04615422802961,
          111.22336865715891,
          293.09670354102127,
          103.22605839508596,
          54.94919461118751,
          130.8715241196423,
          81.0051208782674,
          198.65529315437732,
          194.3051280391765,
          293.27919546446327,
          203.49808236189008,
          112.24528238126348,
          57.29378690167045,
          167.7544761973794,
          43.714823814386904,
          248.21526934638877,
          167.23641922125816,
          130.17558951540164,
          172.41980657657055,
          96.70318930314231,
          12.007998225894884,
          134.6287849023174,
          69.63032140938441,
          132.65136494645677,
          33.891795773131115,
          44.44508565878794,
          228.45889707452463,
          236.87990294950782,
          199.11123301267946,
          145.3231296486856,
          15.818455106303936,
          92.75915782571344,
          116.74734112958888,
          218.43395281136353,
          266.6810737984429,
          61.30825316304003,
          163.99651750696486,
          179.3760677588365,
          190.20257392971132,
          138.66442069441345,
          5.7325913558215085,
          76.84007397671444,
          92.57274675249927,
          262.44870074530905,
          264.8125992541258,
          216.85164040783147,
          292.88825028004396,
          287.1280199283169,
          293.60294603261093,
          299.1730598551465,
          254.5198586986067,
          296.1206096058772,
          283.1122288908794,
          244.73155942335018,
          204.51986778457209,
          287.7340880361618,
          233.66702992683122,
          297.08619627455874,
          186.27649348498161,
          182.17664136469904,
          259.33787231736244,
          261.07618726798853,
          219.519529165984,
          151.64559329257517,
          202.77882683050774,
          159.19046395098079,
          260.86566320117123,
          237.43308731702666,
          190.26541077006493,
          108.0500439583009,
          123.55893142795173,
          268.16708060785874,
          222.84323476686617,
          281.9024478852827,
          239.8515563156744,
          272.1833440800689,
          19.928018283682768,
          178.90763448584386,
          211.46085862600265,
          251.59366264074293,
          269.0935716862158,
          299.6298419178381,
          47.87750840146839,
          231.2303763395088,
          190.59360083071462
         ],
         "xaxis": "x3",
         "y": [
          0.76875,
          0.865,
          0.79875,
          0.846875,
          0.7568750000000001,
          0.854375,
          0.830625,
          0.82875,
          0.8674999999999999,
          0.855,
          0.881875,
          0.88625,
          0.8512500000000001,
          0.8768750000000001,
          0.8725,
          0.875625,
          0.869375,
          0.8756250000000001,
          0.856875,
          0.8625,
          0.855,
          0.8756250000000001,
          0.8825,
          0.87125,
          0.88,
          0.86875,
          0.8518749999999999,
          0.86125,
          0.88125,
          0.8656250000000001,
          0.858125,
          0.880625,
          0.878125,
          0.879375,
          0.874375,
          0.8218749999999999,
          0.8812500000000001,
          0.8687499999999999,
          0.87,
          0.86625,
          0.869375,
          0.8812500000000001,
          0.8787499999999999,
          0.878125,
          0.8725,
          0.826875,
          0.874375,
          0.868125,
          0.8731249999999999,
          0.8768750000000001,
          0.8725,
          0.8781249999999999,
          0.8812500000000001,
          0.874375,
          0.880625,
          0.7575000000000001,
          0.88,
          0.8725,
          0.881875,
          0.8712500000000001,
          0.870625,
          0.883125,
          0.88375,
          0.88375,
          0.875625,
          0.88,
          0.88375,
          0.875,
          0.8712500000000001,
          0.875,
          0.87625,
          0.88125,
          0.880625,
          0.881875,
          0.855,
          0.88375,
          0.875625,
          0.87625,
          0.8800000000000001,
          0.870625,
          0.878125,
          0.8775,
          0.878125,
          0.874375,
          0.849375,
          0.8812500000000001,
          0.8825,
          0.875,
          0.87375,
          0.875,
          0.865,
          0.8362499999999999,
          0.875625,
          0.878125,
          0.878125,
          0.8825000000000001,
          0.8787499999999999,
          0.8699999999999999,
          0.8775000000000001,
          0.86875
         ],
         "yaxis": "y3"
        }
       ],
       "layout": {
        "template": {
         "data": {
          "bar": [
           {
            "error_x": {
             "color": "#2a3f5f"
            },
            "error_y": {
             "color": "#2a3f5f"
            },
            "marker": {
             "line": {
              "color": "#E5ECF6",
              "width": 0.5
             },
             "pattern": {
              "fillmode": "overlay",
              "size": 10,
              "solidity": 0.2
             }
            },
            "type": "bar"
           }
          ],
          "barpolar": [
           {
            "marker": {
             "line": {
              "color": "#E5ECF6",
              "width": 0.5
             },
             "pattern": {
              "fillmode": "overlay",
              "size": 10,
              "solidity": 0.2
             }
            },
            "type": "barpolar"
           }
          ],
          "carpet": [
           {
            "aaxis": {
             "endlinecolor": "#2a3f5f",
             "gridcolor": "white",
             "linecolor": "white",
             "minorgridcolor": "white",
             "startlinecolor": "#2a3f5f"
            },
            "baxis": {
             "endlinecolor": "#2a3f5f",
             "gridcolor": "white",
             "linecolor": "white",
             "minorgridcolor": "white",
             "startlinecolor": "#2a3f5f"
            },
            "type": "carpet"
           }
          ],
          "choropleth": [
           {
            "colorbar": {
             "outlinewidth": 0,
             "ticks": ""
            },
            "type": "choropleth"
           }
          ],
          "contour": [
           {
            "colorbar": {
             "outlinewidth": 0,
             "ticks": ""
            },
            "colorscale": [
             [
              0,
              "#0d0887"
             ],
             [
              0.1111111111111111,
              "#46039f"
             ],
             [
              0.2222222222222222,
              "#7201a8"
             ],
             [
              0.3333333333333333,
              "#9c179e"
             ],
             [
              0.4444444444444444,
              "#bd3786"
             ],
             [
              0.5555555555555556,
              "#d8576b"
             ],
             [
              0.6666666666666666,
              "#ed7953"
             ],
             [
              0.7777777777777778,
              "#fb9f3a"
             ],
             [
              0.8888888888888888,
              "#fdca26"
             ],
             [
              1,
              "#f0f921"
             ]
            ],
            "type": "contour"
           }
          ],
          "contourcarpet": [
           {
            "colorbar": {
             "outlinewidth": 0,
             "ticks": ""
            },
            "type": "contourcarpet"
           }
          ],
          "heatmap": [
           {
            "colorbar": {
             "outlinewidth": 0,
             "ticks": ""
            },
            "colorscale": [
             [
              0,
              "#0d0887"
             ],
             [
              0.1111111111111111,
              "#46039f"
             ],
             [
              0.2222222222222222,
              "#7201a8"
             ],
             [
              0.3333333333333333,
              "#9c179e"
             ],
             [
              0.4444444444444444,
              "#bd3786"
             ],
             [
              0.5555555555555556,
              "#d8576b"
             ],
             [
              0.6666666666666666,
              "#ed7953"
             ],
             [
              0.7777777777777778,
              "#fb9f3a"
             ],
             [
              0.8888888888888888,
              "#fdca26"
             ],
             [
              1,
              "#f0f921"
             ]
            ],
            "type": "heatmap"
           }
          ],
          "heatmapgl": [
           {
            "colorbar": {
             "outlinewidth": 0,
             "ticks": ""
            },
            "colorscale": [
             [
              0,
              "#0d0887"
             ],
             [
              0.1111111111111111,
              "#46039f"
             ],
             [
              0.2222222222222222,
              "#7201a8"
             ],
             [
              0.3333333333333333,
              "#9c179e"
             ],
             [
              0.4444444444444444,
              "#bd3786"
             ],
             [
              0.5555555555555556,
              "#d8576b"
             ],
             [
              0.6666666666666666,
              "#ed7953"
             ],
             [
              0.7777777777777778,
              "#fb9f3a"
             ],
             [
              0.8888888888888888,
              "#fdca26"
             ],
             [
              1,
              "#f0f921"
             ]
            ],
            "type": "heatmapgl"
           }
          ],
          "histogram": [
           {
            "marker": {
             "pattern": {
              "fillmode": "overlay",
              "size": 10,
              "solidity": 0.2
             }
            },
            "type": "histogram"
           }
          ],
          "histogram2d": [
           {
            "colorbar": {
             "outlinewidth": 0,
             "ticks": ""
            },
            "colorscale": [
             [
              0,
              "#0d0887"
             ],
             [
              0.1111111111111111,
              "#46039f"
             ],
             [
              0.2222222222222222,
              "#7201a8"
             ],
             [
              0.3333333333333333,
              "#9c179e"
             ],
             [
              0.4444444444444444,
              "#bd3786"
             ],
             [
              0.5555555555555556,
              "#d8576b"
             ],
             [
              0.6666666666666666,
              "#ed7953"
             ],
             [
              0.7777777777777778,
              "#fb9f3a"
             ],
             [
              0.8888888888888888,
              "#fdca26"
             ],
             [
              1,
              "#f0f921"
             ]
            ],
            "type": "histogram2d"
           }
          ],
          "histogram2dcontour": [
           {
            "colorbar": {
             "outlinewidth": 0,
             "ticks": ""
            },
            "colorscale": [
             [
              0,
              "#0d0887"
             ],
             [
              0.1111111111111111,
              "#46039f"
             ],
             [
              0.2222222222222222,
              "#7201a8"
             ],
             [
              0.3333333333333333,
              "#9c179e"
             ],
             [
              0.4444444444444444,
              "#bd3786"
             ],
             [
              0.5555555555555556,
              "#d8576b"
             ],
             [
              0.6666666666666666,
              "#ed7953"
             ],
             [
              0.7777777777777778,
              "#fb9f3a"
             ],
             [
              0.8888888888888888,
              "#fdca26"
             ],
             [
              1,
              "#f0f921"
             ]
            ],
            "type": "histogram2dcontour"
           }
          ],
          "mesh3d": [
           {
            "colorbar": {
             "outlinewidth": 0,
             "ticks": ""
            },
            "type": "mesh3d"
           }
          ],
          "parcoords": [
           {
            "line": {
             "colorbar": {
              "outlinewidth": 0,
              "ticks": ""
             }
            },
            "type": "parcoords"
           }
          ],
          "pie": [
           {
            "automargin": true,
            "type": "pie"
           }
          ],
          "scatter": [
           {
            "fillpattern": {
             "fillmode": "overlay",
             "size": 10,
             "solidity": 0.2
            },
            "type": "scatter"
           }
          ],
          "scatter3d": [
           {
            "line": {
             "colorbar": {
              "outlinewidth": 0,
              "ticks": ""
             }
            },
            "marker": {
             "colorbar": {
              "outlinewidth": 0,
              "ticks": ""
             }
            },
            "type": "scatter3d"
           }
          ],
          "scattercarpet": [
           {
            "marker": {
             "colorbar": {
              "outlinewidth": 0,
              "ticks": ""
             }
            },
            "type": "scattercarpet"
           }
          ],
          "scattergeo": [
           {
            "marker": {
             "colorbar": {
              "outlinewidth": 0,
              "ticks": ""
             }
            },
            "type": "scattergeo"
           }
          ],
          "scattergl": [
           {
            "marker": {
             "colorbar": {
              "outlinewidth": 0,
              "ticks": ""
             }
            },
            "type": "scattergl"
           }
          ],
          "scattermapbox": [
           {
            "marker": {
             "colorbar": {
              "outlinewidth": 0,
              "ticks": ""
             }
            },
            "type": "scattermapbox"
           }
          ],
          "scatterpolar": [
           {
            "marker": {
             "colorbar": {
              "outlinewidth": 0,
              "ticks": ""
             }
            },
            "type": "scatterpolar"
           }
          ],
          "scatterpolargl": [
           {
            "marker": {
             "colorbar": {
              "outlinewidth": 0,
              "ticks": ""
             }
            },
            "type": "scatterpolargl"
           }
          ],
          "scatterternary": [
           {
            "marker": {
             "colorbar": {
              "outlinewidth": 0,
              "ticks": ""
             }
            },
            "type": "scatterternary"
           }
          ],
          "surface": [
           {
            "colorbar": {
             "outlinewidth": 0,
             "ticks": ""
            },
            "colorscale": [
             [
              0,
              "#0d0887"
             ],
             [
              0.1111111111111111,
              "#46039f"
             ],
             [
              0.2222222222222222,
              "#7201a8"
             ],
             [
              0.3333333333333333,
              "#9c179e"
             ],
             [
              0.4444444444444444,
              "#bd3786"
             ],
             [
              0.5555555555555556,
              "#d8576b"
             ],
             [
              0.6666666666666666,
              "#ed7953"
             ],
             [
              0.7777777777777778,
              "#fb9f3a"
             ],
             [
              0.8888888888888888,
              "#fdca26"
             ],
             [
              1,
              "#f0f921"
             ]
            ],
            "type": "surface"
           }
          ],
          "table": [
           {
            "cells": {
             "fill": {
              "color": "#EBF0F8"
             },
             "line": {
              "color": "white"
             }
            },
            "header": {
             "fill": {
              "color": "#C8D4E3"
             },
             "line": {
              "color": "white"
             }
            },
            "type": "table"
           }
          ]
         },
         "layout": {
          "annotationdefaults": {
           "arrowcolor": "#2a3f5f",
           "arrowhead": 0,
           "arrowwidth": 1
          },
          "autotypenumbers": "strict",
          "coloraxis": {
           "colorbar": {
            "outlinewidth": 0,
            "ticks": ""
           }
          },
          "colorscale": {
           "diverging": [
            [
             0,
             "#8e0152"
            ],
            [
             0.1,
             "#c51b7d"
            ],
            [
             0.2,
             "#de77ae"
            ],
            [
             0.3,
             "#f1b6da"
            ],
            [
             0.4,
             "#fde0ef"
            ],
            [
             0.5,
             "#f7f7f7"
            ],
            [
             0.6,
             "#e6f5d0"
            ],
            [
             0.7,
             "#b8e186"
            ],
            [
             0.8,
             "#7fbc41"
            ],
            [
             0.9,
             "#4d9221"
            ],
            [
             1,
             "#276419"
            ]
           ],
           "sequential": [
            [
             0,
             "#0d0887"
            ],
            [
             0.1111111111111111,
             "#46039f"
            ],
            [
             0.2222222222222222,
             "#7201a8"
            ],
            [
             0.3333333333333333,
             "#9c179e"
            ],
            [
             0.4444444444444444,
             "#bd3786"
            ],
            [
             0.5555555555555556,
             "#d8576b"
            ],
            [
             0.6666666666666666,
             "#ed7953"
            ],
            [
             0.7777777777777778,
             "#fb9f3a"
            ],
            [
             0.8888888888888888,
             "#fdca26"
            ],
            [
             1,
             "#f0f921"
            ]
           ],
           "sequentialminus": [
            [
             0,
             "#0d0887"
            ],
            [
             0.1111111111111111,
             "#46039f"
            ],
            [
             0.2222222222222222,
             "#7201a8"
            ],
            [
             0.3333333333333333,
             "#9c179e"
            ],
            [
             0.4444444444444444,
             "#bd3786"
            ],
            [
             0.5555555555555556,
             "#d8576b"
            ],
            [
             0.6666666666666666,
             "#ed7953"
            ],
            [
             0.7777777777777778,
             "#fb9f3a"
            ],
            [
             0.8888888888888888,
             "#fdca26"
            ],
            [
             1,
             "#f0f921"
            ]
           ]
          },
          "colorway": [
           "#636efa",
           "#EF553B",
           "#00cc96",
           "#ab63fa",
           "#FFA15A",
           "#19d3f3",
           "#FF6692",
           "#B6E880",
           "#FF97FF",
           "#FECB52"
          ],
          "font": {
           "color": "#2a3f5f"
          },
          "geo": {
           "bgcolor": "white",
           "lakecolor": "white",
           "landcolor": "#E5ECF6",
           "showlakes": true,
           "showland": true,
           "subunitcolor": "white"
          },
          "hoverlabel": {
           "align": "left"
          },
          "hovermode": "closest",
          "mapbox": {
           "style": "light"
          },
          "paper_bgcolor": "white",
          "plot_bgcolor": "#E5ECF6",
          "polar": {
           "angularaxis": {
            "gridcolor": "white",
            "linecolor": "white",
            "ticks": ""
           },
           "bgcolor": "#E5ECF6",
           "radialaxis": {
            "gridcolor": "white",
            "linecolor": "white",
            "ticks": ""
           }
          },
          "scene": {
           "xaxis": {
            "backgroundcolor": "#E5ECF6",
            "gridcolor": "white",
            "gridwidth": 2,
            "linecolor": "white",
            "showbackground": true,
            "ticks": "",
            "zerolinecolor": "white"
           },
           "yaxis": {
            "backgroundcolor": "#E5ECF6",
            "gridcolor": "white",
            "gridwidth": 2,
            "linecolor": "white",
            "showbackground": true,
            "ticks": "",
            "zerolinecolor": "white"
           },
           "zaxis": {
            "backgroundcolor": "#E5ECF6",
            "gridcolor": "white",
            "gridwidth": 2,
            "linecolor": "white",
            "showbackground": true,
            "ticks": "",
            "zerolinecolor": "white"
           }
          },
          "shapedefaults": {
           "line": {
            "color": "#2a3f5f"
           }
          },
          "ternary": {
           "aaxis": {
            "gridcolor": "white",
            "linecolor": "white",
            "ticks": ""
           },
           "baxis": {
            "gridcolor": "white",
            "linecolor": "white",
            "ticks": ""
           },
           "bgcolor": "#E5ECF6",
           "caxis": {
            "gridcolor": "white",
            "linecolor": "white",
            "ticks": ""
           }
          },
          "title": {
           "x": 0.05
          },
          "xaxis": {
           "automargin": true,
           "gridcolor": "white",
           "linecolor": "white",
           "ticks": "",
           "title": {
            "standoff": 15
           },
           "zerolinecolor": "white",
           "zerolinewidth": 2
          },
          "yaxis": {
           "automargin": true,
           "gridcolor": "white",
           "linecolor": "white",
           "ticks": "",
           "title": {
            "standoff": 15
           },
           "zerolinecolor": "white",
           "zerolinewidth": 2
          }
         }
        },
        "title": {
         "text": "Slice Plot"
        },
        "xaxis": {
         "anchor": "y",
         "domain": [
          0,
          0.2888888888888889
         ],
         "title": {
          "text": "max_depth"
         },
         "type": "log"
        },
        "xaxis2": {
         "anchor": "y2",
         "domain": [
          0.35555555555555557,
          0.6444444444444445
         ],
         "title": {
          "text": "min_samples_leaf"
         }
        },
        "xaxis3": {
         "anchor": "y3",
         "domain": [
          0.7111111111111111,
          1
         ],
         "title": {
          "text": "n_estimators"
         },
         "type": "log"
        },
        "yaxis": {
         "anchor": "x",
         "domain": [
          0,
          1
         ],
         "title": {
          "text": "Objective Value"
         }
        },
        "yaxis2": {
         "anchor": "x2",
         "domain": [
          0,
          1
         ],
         "matches": "y",
         "showticklabels": false
        },
        "yaxis3": {
         "anchor": "x3",
         "domain": [
          0,
          1
         ],
         "matches": "y",
         "showticklabels": false
        }
       }
      }
     },
     "metadata": {},
     "output_type": "display_data"
    }
   ],
   "source": [
    "optuna.visualization.plot_slice(study)"
   ]
  },
  {
   "cell_type": "markdown",
   "metadata": {},
   "source": []
  }
 ],
 "metadata": {
  "interpreter": {
   "hash": "98324d0d3604df58b29c1578730b1af95952fa54ae3af3ba7479ef5c21d567de"
  },
  "kernelspec": {
   "display_name": "Python 3.9.7 ('tf-gpu')",
   "language": "python",
   "name": "python3"
  },
  "language_info": {
   "codemirror_mode": {
    "name": "ipython",
    "version": 3
   },
   "file_extension": ".py",
   "mimetype": "text/x-python",
   "name": "python",
   "nbconvert_exporter": "python",
   "pygments_lexer": "ipython3",
   "version": "3.9.7"
  },
  "orig_nbformat": 4
 },
 "nbformat": 4,
 "nbformat_minor": 2
}
